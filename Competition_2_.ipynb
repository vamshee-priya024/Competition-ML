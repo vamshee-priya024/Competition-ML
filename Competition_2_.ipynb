{
  "nbformat": 4,
  "nbformat_minor": 0,
  "metadata": {
    "colab": {
      "provenance": []
    },
    "kernelspec": {
      "name": "python3",
      "display_name": "Python 3"
    },
    "language_info": {
      "name": "python"
    }
  },
  "cells": [
    {
      "cell_type": "code",
      "execution_count": 201,
      "metadata": {
        "id": "xIYKyYS3ofV1",
        "colab": {
          "base_uri": "https://localhost:8080/",
          "height": 357
        },
        "outputId": "3606c60d-793b-4e9f-d972-a64584235a66"
      },
      "outputs": [
        {
          "output_type": "execute_result",
          "data": {
            "text/plain": [
              "  PassengerId HomePlanet CryoSleep  Cabin  Destination   Age    VIP  \\\n",
              "0     0001_01     Europa     False  B/0/P  TRAPPIST-1e  39.0  False   \n",
              "1     0002_01      Earth     False  F/0/S  TRAPPIST-1e  24.0  False   \n",
              "2     0003_01     Europa     False  A/0/S  TRAPPIST-1e  58.0   True   \n",
              "3     0003_02     Europa     False  A/0/S  TRAPPIST-1e  33.0  False   \n",
              "4     0004_01      Earth     False  F/1/S  TRAPPIST-1e  16.0  False   \n",
              "\n",
              "   RoomService  FoodCourt  ShoppingMall     Spa  VRDeck               Name  \\\n",
              "0          0.0        0.0           0.0     0.0     0.0    Maham Ofracculy   \n",
              "1        109.0        9.0          25.0   549.0    44.0       Juanna Vines   \n",
              "2         43.0     3576.0           0.0  6715.0    49.0      Altark Susent   \n",
              "3          0.0     1283.0         371.0  3329.0   193.0       Solam Susent   \n",
              "4        303.0       70.0         151.0   565.0     2.0  Willy Santantines   \n",
              "\n",
              "  Transported   mode  \n",
              "0       False  train  \n",
              "1        True  train  \n",
              "2       False  train  \n",
              "3       False  train  \n",
              "4        True  train  "
            ],
            "text/html": [
              "\n",
              "  <div id=\"df-c1a18a04-cf36-4a00-bb46-4b2892ef8356\">\n",
              "    <div class=\"colab-df-container\">\n",
              "      <div>\n",
              "<style scoped>\n",
              "    .dataframe tbody tr th:only-of-type {\n",
              "        vertical-align: middle;\n",
              "    }\n",
              "\n",
              "    .dataframe tbody tr th {\n",
              "        vertical-align: top;\n",
              "    }\n",
              "\n",
              "    .dataframe thead th {\n",
              "        text-align: right;\n",
              "    }\n",
              "</style>\n",
              "<table border=\"1\" class=\"dataframe\">\n",
              "  <thead>\n",
              "    <tr style=\"text-align: right;\">\n",
              "      <th></th>\n",
              "      <th>PassengerId</th>\n",
              "      <th>HomePlanet</th>\n",
              "      <th>CryoSleep</th>\n",
              "      <th>Cabin</th>\n",
              "      <th>Destination</th>\n",
              "      <th>Age</th>\n",
              "      <th>VIP</th>\n",
              "      <th>RoomService</th>\n",
              "      <th>FoodCourt</th>\n",
              "      <th>ShoppingMall</th>\n",
              "      <th>Spa</th>\n",
              "      <th>VRDeck</th>\n",
              "      <th>Name</th>\n",
              "      <th>Transported</th>\n",
              "      <th>mode</th>\n",
              "    </tr>\n",
              "  </thead>\n",
              "  <tbody>\n",
              "    <tr>\n",
              "      <th>0</th>\n",
              "      <td>0001_01</td>\n",
              "      <td>Europa</td>\n",
              "      <td>False</td>\n",
              "      <td>B/0/P</td>\n",
              "      <td>TRAPPIST-1e</td>\n",
              "      <td>39.0</td>\n",
              "      <td>False</td>\n",
              "      <td>0.0</td>\n",
              "      <td>0.0</td>\n",
              "      <td>0.0</td>\n",
              "      <td>0.0</td>\n",
              "      <td>0.0</td>\n",
              "      <td>Maham Ofracculy</td>\n",
              "      <td>False</td>\n",
              "      <td>train</td>\n",
              "    </tr>\n",
              "    <tr>\n",
              "      <th>1</th>\n",
              "      <td>0002_01</td>\n",
              "      <td>Earth</td>\n",
              "      <td>False</td>\n",
              "      <td>F/0/S</td>\n",
              "      <td>TRAPPIST-1e</td>\n",
              "      <td>24.0</td>\n",
              "      <td>False</td>\n",
              "      <td>109.0</td>\n",
              "      <td>9.0</td>\n",
              "      <td>25.0</td>\n",
              "      <td>549.0</td>\n",
              "      <td>44.0</td>\n",
              "      <td>Juanna Vines</td>\n",
              "      <td>True</td>\n",
              "      <td>train</td>\n",
              "    </tr>\n",
              "    <tr>\n",
              "      <th>2</th>\n",
              "      <td>0003_01</td>\n",
              "      <td>Europa</td>\n",
              "      <td>False</td>\n",
              "      <td>A/0/S</td>\n",
              "      <td>TRAPPIST-1e</td>\n",
              "      <td>58.0</td>\n",
              "      <td>True</td>\n",
              "      <td>43.0</td>\n",
              "      <td>3576.0</td>\n",
              "      <td>0.0</td>\n",
              "      <td>6715.0</td>\n",
              "      <td>49.0</td>\n",
              "      <td>Altark Susent</td>\n",
              "      <td>False</td>\n",
              "      <td>train</td>\n",
              "    </tr>\n",
              "    <tr>\n",
              "      <th>3</th>\n",
              "      <td>0003_02</td>\n",
              "      <td>Europa</td>\n",
              "      <td>False</td>\n",
              "      <td>A/0/S</td>\n",
              "      <td>TRAPPIST-1e</td>\n",
              "      <td>33.0</td>\n",
              "      <td>False</td>\n",
              "      <td>0.0</td>\n",
              "      <td>1283.0</td>\n",
              "      <td>371.0</td>\n",
              "      <td>3329.0</td>\n",
              "      <td>193.0</td>\n",
              "      <td>Solam Susent</td>\n",
              "      <td>False</td>\n",
              "      <td>train</td>\n",
              "    </tr>\n",
              "    <tr>\n",
              "      <th>4</th>\n",
              "      <td>0004_01</td>\n",
              "      <td>Earth</td>\n",
              "      <td>False</td>\n",
              "      <td>F/1/S</td>\n",
              "      <td>TRAPPIST-1e</td>\n",
              "      <td>16.0</td>\n",
              "      <td>False</td>\n",
              "      <td>303.0</td>\n",
              "      <td>70.0</td>\n",
              "      <td>151.0</td>\n",
              "      <td>565.0</td>\n",
              "      <td>2.0</td>\n",
              "      <td>Willy Santantines</td>\n",
              "      <td>True</td>\n",
              "      <td>train</td>\n",
              "    </tr>\n",
              "  </tbody>\n",
              "</table>\n",
              "</div>\n",
              "      <button class=\"colab-df-convert\" onclick=\"convertToInteractive('df-c1a18a04-cf36-4a00-bb46-4b2892ef8356')\"\n",
              "              title=\"Convert this dataframe to an interactive table.\"\n",
              "              style=\"display:none;\">\n",
              "        \n",
              "  <svg xmlns=\"http://www.w3.org/2000/svg\" height=\"24px\"viewBox=\"0 0 24 24\"\n",
              "       width=\"24px\">\n",
              "    <path d=\"M0 0h24v24H0V0z\" fill=\"none\"/>\n",
              "    <path d=\"M18.56 5.44l.94 2.06.94-2.06 2.06-.94-2.06-.94-.94-2.06-.94 2.06-2.06.94zm-11 1L8.5 8.5l.94-2.06 2.06-.94-2.06-.94L8.5 2.5l-.94 2.06-2.06.94zm10 10l.94 2.06.94-2.06 2.06-.94-2.06-.94-.94-2.06-.94 2.06-2.06.94z\"/><path d=\"M17.41 7.96l-1.37-1.37c-.4-.4-.92-.59-1.43-.59-.52 0-1.04.2-1.43.59L10.3 9.45l-7.72 7.72c-.78.78-.78 2.05 0 2.83L4 21.41c.39.39.9.59 1.41.59.51 0 1.02-.2 1.41-.59l7.78-7.78 2.81-2.81c.8-.78.8-2.07 0-2.86zM5.41 20L4 18.59l7.72-7.72 1.47 1.35L5.41 20z\"/>\n",
              "  </svg>\n",
              "      </button>\n",
              "      \n",
              "  <style>\n",
              "    .colab-df-container {\n",
              "      display:flex;\n",
              "      flex-wrap:wrap;\n",
              "      gap: 12px;\n",
              "    }\n",
              "\n",
              "    .colab-df-convert {\n",
              "      background-color: #E8F0FE;\n",
              "      border: none;\n",
              "      border-radius: 50%;\n",
              "      cursor: pointer;\n",
              "      display: none;\n",
              "      fill: #1967D2;\n",
              "      height: 32px;\n",
              "      padding: 0 0 0 0;\n",
              "      width: 32px;\n",
              "    }\n",
              "\n",
              "    .colab-df-convert:hover {\n",
              "      background-color: #E2EBFA;\n",
              "      box-shadow: 0px 1px 2px rgba(60, 64, 67, 0.3), 0px 1px 3px 1px rgba(60, 64, 67, 0.15);\n",
              "      fill: #174EA6;\n",
              "    }\n",
              "\n",
              "    [theme=dark] .colab-df-convert {\n",
              "      background-color: #3B4455;\n",
              "      fill: #D2E3FC;\n",
              "    }\n",
              "\n",
              "    [theme=dark] .colab-df-convert:hover {\n",
              "      background-color: #434B5C;\n",
              "      box-shadow: 0px 1px 3px 1px rgba(0, 0, 0, 0.15);\n",
              "      filter: drop-shadow(0px 1px 2px rgba(0, 0, 0, 0.3));\n",
              "      fill: #FFFFFF;\n",
              "    }\n",
              "  </style>\n",
              "\n",
              "      <script>\n",
              "        const buttonEl =\n",
              "          document.querySelector('#df-c1a18a04-cf36-4a00-bb46-4b2892ef8356 button.colab-df-convert');\n",
              "        buttonEl.style.display =\n",
              "          google.colab.kernel.accessAllowed ? 'block' : 'none';\n",
              "\n",
              "        async function convertToInteractive(key) {\n",
              "          const element = document.querySelector('#df-c1a18a04-cf36-4a00-bb46-4b2892ef8356');\n",
              "          const dataTable =\n",
              "            await google.colab.kernel.invokeFunction('convertToInteractive',\n",
              "                                                     [key], {});\n",
              "          if (!dataTable) return;\n",
              "\n",
              "          const docLinkHtml = 'Like what you see? Visit the ' +\n",
              "            '<a target=\"_blank\" href=https://colab.research.google.com/notebooks/data_table.ipynb>data table notebook</a>'\n",
              "            + ' to learn more about interactive tables.';\n",
              "          element.innerHTML = '';\n",
              "          dataTable['output_type'] = 'display_data';\n",
              "          await google.colab.output.renderOutput(dataTable, element);\n",
              "          const docLink = document.createElement('div');\n",
              "          docLink.innerHTML = docLinkHtml;\n",
              "          element.appendChild(docLink);\n",
              "        }\n",
              "      </script>\n",
              "    </div>\n",
              "  </div>\n",
              "  "
            ]
          },
          "metadata": {},
          "execution_count": 201
        }
      ],
      "source": [
        "import pandas as pd\n",
        "raw_df=pd.read_csv('/content/drive/MyDrive/competition2 train.csv')\n",
        "test_data=pd.read_csv('/content/drive/MyDrive/competition2 test.csv')\n",
        "raw_df['mode'] = 'train'\n",
        "test_data['mode'] = 'test'\n",
        "raw_df = pd.concat([raw_df,test_data]).reset_index(drop=True)\n",
        "raw_df.head()"
      ]
    },
    {
      "cell_type": "code",
      "source": [
        "#Checking NULLs\n",
        "raw_df.isnull().sum()"
      ],
      "metadata": {
        "colab": {
          "base_uri": "https://localhost:8080/"
        },
        "id": "oB_8RrOEylmo",
        "outputId": "78eae2d4-072f-4e3e-c200-7c478e5588f9"
      },
      "execution_count": 202,
      "outputs": [
        {
          "output_type": "execute_result",
          "data": {
            "text/plain": [
              "PassengerId        0\n",
              "HomePlanet       288\n",
              "CryoSleep        310\n",
              "Cabin            299\n",
              "Destination      274\n",
              "Age              270\n",
              "VIP              296\n",
              "RoomService      263\n",
              "FoodCourt        289\n",
              "ShoppingMall     306\n",
              "Spa              284\n",
              "VRDeck           268\n",
              "Name             294\n",
              "Transported     4277\n",
              "mode               0\n",
              "dtype: int64"
            ]
          },
          "metadata": {},
          "execution_count": 202
        }
      ]
    },
    {
      "cell_type": "code",
      "source": [
        "\n",
        "\n",
        "raw_df['group'] = raw_df['PassengerId'].str.split('_').str[0]\n",
        "raw_df['n_within_grp'] = raw_df['PassengerId'].str.split('_').str[1]\n",
        "\n",
        "raw_df['deck'] = raw_df['Cabin'].str.split('/').str[0]\n",
        "raw_df['num'] = raw_df['Cabin'].str.split('/').str[1]\n",
        "raw_df['side'] = raw_df['Cabin'].str.split('/').str[2]\n",
        "\n"
      ],
      "metadata": {
        "id": "7WdCVUsN96hp"
      },
      "execution_count": 203,
      "outputs": []
    },
    {
      "cell_type": "code",
      "source": [
        "group_homeplanet_ = raw_df.loc[~raw_df.HomePlanet.isnull()]\\\n",
        "  [['group','HomePlanet']]\\\n",
        "  .drop_duplicates()\\\n",
        "  .reset_index(drop=True)\n",
        "group_homeplanet_map = dict(zip(group_homeplanet_['group'],group_homeplanet_['HomePlanet']))\n",
        "raw_df['HomePlanet'] = raw_df['group'].map(group_homeplanet_map).fillna(raw_df['HomePlanet'])\n",
        "\n",
        "group_destination_ = raw_df.loc[~raw_df.Destination.isnull()]\\\n",
        "    [['group','Destination']]\\\n",
        "    .drop_duplicates()\\\n",
        "    .dropna()\\\n",
        "    .reset_index(drop=True)\n",
        "group_destination_map = dict(zip(group_destination_['group'],group_destination_['Destination']))\n",
        "raw_df['Destination'] = raw_df['group'].map(group_destination_map).fillna(raw_df['Destination'])\n"
      ],
      "metadata": {
        "id": "SOTxfKjV9RAg"
      },
      "execution_count": 204,
      "outputs": []
    },
    {
      "cell_type": "code",
      "source": [
        "raw_df['CryoSleep'] = raw_df.CryoSleep.map({False:0,True:1})\n",
        "raw_df['VIP'] = raw_df.VIP.map({False:0,True:1})\n"
      ],
      "metadata": {
        "id": "KWqkvR4N-EJ1"
      },
      "execution_count": 205,
      "outputs": []
    },
    {
      "cell_type": "code",
      "source": [
        "\n",
        "\n",
        "raw_df.loc[(raw_df.CryoSleep==1) & (raw_df.RoomService.isnull()),'RoomService']=0\n",
        "raw_df.loc[(raw_df.CryoSleep==1) & (raw_df.FoodCourt.isnull()),'FoodCourt']=0\n",
        "raw_df.loc[(raw_df.CryoSleep==1) & (raw_df.ShoppingMall.isnull()),'ShoppingMall']=0\n",
        "raw_df.loc[(raw_df.CryoSleep==1) & (raw_df.Spa.isnull()),'Spa']=0\n",
        "raw_df.loc[(raw_df.CryoSleep==1) & (raw_df.VRDeck.isnull()),'VRDeck']=0\n",
        "\n"
      ],
      "metadata": {
        "id": "ymh0HgBU-HBF"
      },
      "execution_count": 206,
      "outputs": []
    },
    {
      "cell_type": "code",
      "source": [
        "raw_df['luxury_spending'] = raw_df['RoomService'].fillna(0) \\\n",
        "                                    + raw_df['FoodCourt'].fillna(0) \\\n",
        "                                    + raw_df['ShoppingMall'].fillna(0) \\\n",
        "                                    + raw_df['Spa'].fillna(0) \\\n",
        "                                    + raw_df['VRDeck'].fillna(0) "
      ],
      "metadata": {
        "id": "JgB5vvCt-Q_J"
      },
      "execution_count": 207,
      "outputs": []
    },
    {
      "cell_type": "code",
      "source": [
        "\n",
        "\n",
        "vip_spend_df = raw_df[['VIP','luxury_spending']]\n",
        "print(vip_spend_df.query(\"VIP==1\").luxury_spending.mean())\n",
        "raw_df.loc[(raw_df.luxury_spending>=4595) & (raw_df.VIP.isnull()),'VIP']=1\n",
        "\n"
      ],
      "metadata": {
        "colab": {
          "base_uri": "https://localhost:8080/"
        },
        "id": "e0cTgstg-XFz",
        "outputId": "d56eddf6-1117-45cb-f9f5-7199c5b4500b"
      },
      "execution_count": 208,
      "outputs": [
        {
          "output_type": "stream",
          "name": "stdout",
          "text": [
            "4595.542124542125\n"
          ]
        }
      ]
    },
    {
      "cell_type": "code",
      "source": [
        "raw_df.isnull().sum()"
      ],
      "metadata": {
        "colab": {
          "base_uri": "https://localhost:8080/"
        },
        "id": "BVdtE_tg-bqE",
        "outputId": "7eb01939-4c1f-4253-acd6-920db858723d"
      },
      "execution_count": 209,
      "outputs": [
        {
          "output_type": "execute_result",
          "data": {
            "text/plain": [
              "PassengerId           0\n",
              "HomePlanet          157\n",
              "CryoSleep           310\n",
              "Cabin               299\n",
              "Destination         154\n",
              "Age                 270\n",
              "VIP                 269\n",
              "RoomService         170\n",
              "FoodCourt           180\n",
              "ShoppingMall        175\n",
              "Spa                 177\n",
              "VRDeck              177\n",
              "Name                294\n",
              "Transported        4277\n",
              "mode                  0\n",
              "group                 0\n",
              "n_within_grp          0\n",
              "deck                299\n",
              "num                 299\n",
              "side                299\n",
              "luxury_spending       0\n",
              "dtype: int64"
            ]
          },
          "metadata": {},
          "execution_count": 209
        }
      ]
    },
    {
      "cell_type": "code",
      "source": [
        "age_spending_df = raw_df[['Age','luxury_spending']]\n",
        "\n",
        "age_spending_df.plot(kind='scatter', x='Age', y='luxury_spending',figsize=(10,10))"
      ],
      "metadata": {
        "colab": {
          "base_uri": "https://localhost:8080/",
          "height": 624
        },
        "id": "kEab2Ew3-e_2",
        "outputId": "b03bd0a3-22a5-4cc0-8e1e-5db2b3eb74d5"
      },
      "execution_count": 210,
      "outputs": [
        {
          "output_type": "execute_result",
          "data": {
            "text/plain": [
              "<matplotlib.axes._subplots.AxesSubplot at 0x7f055fd96d50>"
            ]
          },
          "metadata": {},
          "execution_count": 210
        },
        {
          "output_type": "display_data",
          "data": {
            "text/plain": [
              "<Figure size 720x720 with 1 Axes>"
            ],
            "image/png": "[encoded data removed]"
          },
          "metadata": {
            "needs_background": "light"
          }
        }
      ]
    },
    {
      "cell_type": "code",
      "source": [
        "raw_df.loc[(raw_df.Age<=12) & (raw_df.RoomService.isnull()),'RoomService']=0\n",
        "raw_df.loc[(raw_df.Age<=12) & (raw_df.FoodCourt.isnull()),'FoodCourt']=0\n",
        "raw_df.loc[(raw_df.Age<=12) & (raw_df.ShoppingMall.isnull()),'ShoppingMall']=0\n",
        "raw_df.loc[(raw_df.Age<=12) & (raw_df.Spa.isnull()),'Spa']=0\n",
        "raw_df.loc[(raw_df.Age<=12) & (raw_df.VRDeck.isnull()),'VRDeck']=0\n",
        "\n",
        "raw_df = raw_df.drop('luxury_spending',axis=1)\n",
        "\n",
        "raw_df['luxury_spending'] = raw_df['RoomService'].fillna(0) \\\n",
        "                                    + raw_df['FoodCourt'].fillna(0) \\\n",
        "                                    + raw_df['ShoppingMall'].fillna(0) \\\n",
        "                                    + raw_df['Spa'].fillna(0) \\\n",
        "                                    + raw_df['VRDeck'].fillna(0) "
      ],
      "metadata": {
        "id": "kHqhvhQBCOVg"
      },
      "execution_count": 211,
      "outputs": []
    },
    {
      "cell_type": "code",
      "source": [
        "print(f'Mean Spending for VIPS {raw_df.query(\"VIP==1\").luxury_spending.mean()}')\n",
        "print(f'Mean Spending for Non VIPS {raw_df.query(\"VIP==0\").luxury_spending.mean()}')"
      ],
      "metadata": {
        "colab": {
          "base_uri": "https://localhost:8080/"
        },
        "id": "OY1ocdOXClag",
        "outputId": "da769afc-324b-4e1e-d57d-6ff83419a30a"
      },
      "execution_count": 212,
      "outputs": [
        {
          "output_type": "stream",
          "name": "stdout",
          "text": [
            "Mean Spending for VIPS 5181.95\n",
            "Mean Spending for Non VIPS 1358.2765099588744\n"
          ]
        }
      ]
    },
    {
      "cell_type": "code",
      "source": [
        "raw_df.loc[(raw_df.VIP.isnull()) & (raw_df.luxury_spending.mean()<5181),'VIP']=0"
      ],
      "metadata": {
        "id": "VdyaLPKGCs0J"
      },
      "execution_count": 213,
      "outputs": []
    },
    {
      "cell_type": "code",
      "source": [
        "raw_df = raw_df.drop('Name',axis=1)"
      ],
      "metadata": {
        "id": "iGiLo5HICs5r"
      },
      "execution_count": 214,
      "outputs": []
    },
    {
      "cell_type": "code",
      "source": [
        "group_deck_df = raw_df[['group','n_within_grp','Cabin']].dropna()"
      ],
      "metadata": {
        "id": "nnnD281lCs_k"
      },
      "execution_count": 215,
      "outputs": []
    },
    {
      "cell_type": "code",
      "source": [
        "group_deck_df.query(\"group=='0709'\")"
      ],
      "metadata": {
        "colab": {
          "base_uri": "https://localhost:8080/",
          "height": 112
        },
        "id": "pd_jt383C-KX",
        "outputId": "76041f01-c8fe-4836-e6fd-ace3700b9b7f"
      },
      "execution_count": 216,
      "outputs": [
        {
          "output_type": "execute_result",
          "data": {
            "text/plain": [
              "    group n_within_grp  Cabin\n",
              "677  0709           01  A/7/S\n",
              "678  0709           02  A/7/S"
            ],
            "text/html": [
              "\n",
              "  <div id=\"df-9d304994-513f-4e6e-bc30-bf9bb5321f05\">\n",
              "    <div class=\"colab-df-container\">\n",
              "      <div>\n",
              "<style scoped>\n",
              "    .dataframe tbody tr th:only-of-type {\n",
              "        vertical-align: middle;\n",
              "    }\n",
              "\n",
              "    .dataframe tbody tr th {\n",
              "        vertical-align: top;\n",
              "    }\n",
              "\n",
              "    .dataframe thead th {\n",
              "        text-align: right;\n",
              "    }\n",
              "</style>\n",
              "<table border=\"1\" class=\"dataframe\">\n",
              "  <thead>\n",
              "    <tr style=\"text-align: right;\">\n",
              "      <th></th>\n",
              "      <th>group</th>\n",
              "      <th>n_within_grp</th>\n",
              "      <th>Cabin</th>\n",
              "    </tr>\n",
              "  </thead>\n",
              "  <tbody>\n",
              "    <tr>\n",
              "      <th>677</th>\n",
              "      <td>0709</td>\n",
              "      <td>01</td>\n",
              "      <td>A/7/S</td>\n",
              "    </tr>\n",
              "    <tr>\n",
              "      <th>678</th>\n",
              "      <td>0709</td>\n",
              "      <td>02</td>\n",
              "      <td>A/7/S</td>\n",
              "    </tr>\n",
              "  </tbody>\n",
              "</table>\n",
              "</div>\n",
              "      <button class=\"colab-df-convert\" onclick=\"convertToInteractive('df-9d304994-513f-4e6e-bc30-bf9bb5321f05')\"\n",
              "              title=\"Convert this dataframe to an interactive table.\"\n",
              "              style=\"display:none;\">\n",
              "        \n",
              "  <svg xmlns=\"http://www.w3.org/2000/svg\" height=\"24px\"viewBox=\"0 0 24 24\"\n",
              "       width=\"24px\">\n",
              "    <path d=\"M0 0h24v24H0V0z\" fill=\"none\"/>\n",
              "    <path d=\"M18.56 5.44l.94 2.06.94-2.06 2.06-.94-2.06-.94-.94-2.06-.94 2.06-2.06.94zm-11 1L8.5 8.5l.94-2.06 2.06-.94-2.06-.94L8.5 2.5l-.94 2.06-2.06.94zm10 10l.94 2.06.94-2.06 2.06-.94-2.06-.94-.94-2.06-.94 2.06-2.06.94z\"/><path d=\"M17.41 7.96l-1.37-1.37c-.4-.4-.92-.59-1.43-.59-.52 0-1.04.2-1.43.59L10.3 9.45l-7.72 7.72c-.78.78-.78 2.05 0 2.83L4 21.41c.39.39.9.59 1.41.59.51 0 1.02-.2 1.41-.59l7.78-7.78 2.81-2.81c.8-.78.8-2.07 0-2.86zM5.41 20L4 18.59l7.72-7.72 1.47 1.35L5.41 20z\"/>\n",
              "  </svg>\n",
              "      </button>\n",
              "      \n",
              "  <style>\n",
              "    .colab-df-container {\n",
              "      display:flex;\n",
              "      flex-wrap:wrap;\n",
              "      gap: 12px;\n",
              "    }\n",
              "\n",
              "    .colab-df-convert {\n",
              "      background-color: #E8F0FE;\n",
              "      border: none;\n",
              "      border-radius: 50%;\n",
              "      cursor: pointer;\n",
              "      display: none;\n",
              "      fill: #1967D2;\n",
              "      height: 32px;\n",
              "      padding: 0 0 0 0;\n",
              "      width: 32px;\n",
              "    }\n",
              "\n",
              "    .colab-df-convert:hover {\n",
              "      background-color: #E2EBFA;\n",
              "      box-shadow: 0px 1px 2px rgba(60, 64, 67, 0.3), 0px 1px 3px 1px rgba(60, 64, 67, 0.15);\n",
              "      fill: #174EA6;\n",
              "    }\n",
              "\n",
              "    [theme=dark] .colab-df-convert {\n",
              "      background-color: #3B4455;\n",
              "      fill: #D2E3FC;\n",
              "    }\n",
              "\n",
              "    [theme=dark] .colab-df-convert:hover {\n",
              "      background-color: #434B5C;\n",
              "      box-shadow: 0px 1px 3px 1px rgba(0, 0, 0, 0.15);\n",
              "      filter: drop-shadow(0px 1px 2px rgba(0, 0, 0, 0.3));\n",
              "      fill: #FFFFFF;\n",
              "    }\n",
              "  </style>\n",
              "\n",
              "      <script>\n",
              "        const buttonEl =\n",
              "          document.querySelector('#df-9d304994-513f-4e6e-bc30-bf9bb5321f05 button.colab-df-convert');\n",
              "        buttonEl.style.display =\n",
              "          google.colab.kernel.accessAllowed ? 'block' : 'none';\n",
              "\n",
              "        async function convertToInteractive(key) {\n",
              "          const element = document.querySelector('#df-9d304994-513f-4e6e-bc30-bf9bb5321f05');\n",
              "          const dataTable =\n",
              "            await google.colab.kernel.invokeFunction('convertToInteractive',\n",
              "                                                     [key], {});\n",
              "          if (!dataTable) return;\n",
              "\n",
              "          const docLinkHtml = 'Like what you see? Visit the ' +\n",
              "            '<a target=\"_blank\" href=https://colab.research.google.com/notebooks/data_table.ipynb>data table notebook</a>'\n",
              "            + ' to learn more about interactive tables.';\n",
              "          element.innerHTML = '';\n",
              "          dataTable['output_type'] = 'display_data';\n",
              "          await google.colab.output.renderOutput(dataTable, element);\n",
              "          const docLink = document.createElement('div');\n",
              "          docLink.innerHTML = docLinkHtml;\n",
              "          element.appendChild(docLink);\n",
              "        }\n",
              "      </script>\n",
              "    </div>\n",
              "  </div>\n",
              "  "
            ]
          },
          "metadata": {},
          "execution_count": 216
        }
      ]
    },
    {
      "cell_type": "code",
      "source": [
        "group_deck_map = dict(zip(group_deck_df['group'],group_deck_df['Cabin']))\n",
        "raw_df['Cabin'] = raw_df['group'].map(group_deck_map).fillna(raw_df['Cabin'])\n",
        "raw_df['deck'] = raw_df['Cabin'].str.split('/').str[0]\n",
        "raw_df['num'] = raw_df['Cabin'].str.split('/').str[1]\n",
        "raw_df['side'] = raw_df['Cabin'].str.split('/').str[2]\n",
        "raw_df = raw_df.drop('Cabin',axis=1)"
      ],
      "metadata": {
        "id": "12YH5EN8C-NB"
      },
      "execution_count": 217,
      "outputs": []
    },
    {
      "cell_type": "code",
      "source": [
        "missing_string_columns = ['HomePlanet','Destination','deck','num','side']\n",
        "missing_number_columns = ['Age','RoomService','FoodCourt','ShoppingMall',\n",
        "                          'Spa','VRDeck','CryoSleep','VIP']\n"
      ],
      "metadata": {
        "id": "C1WGqgdjC-QK"
      },
      "execution_count": 218,
      "outputs": []
    },
    {
      "cell_type": "code",
      "source": [
        "import numpy as np\n",
        "from sklearn.impute import SimpleImputer\n",
        "imp_median = SimpleImputer(missing_values=np.nan, strategy='median')\n",
        "imp_frequent = SimpleImputer(missing_values=np.nan, strategy='most_frequent')\n",
        "\n"
      ],
      "metadata": {
        "id": "xGhB5CSpDKQt"
      },
      "execution_count": 219,
      "outputs": []
    },
    {
      "cell_type": "code",
      "source": [
        "\n",
        "\n",
        "raw_df[missing_number_columns] = imp_median.fit_transform(raw_df[missing_number_columns])\n",
        "raw_df[missing_string_columns] = imp_frequent.fit_transform(raw_df[missing_string_columns])\n",
        "\n"
      ],
      "metadata": {
        "id": "NBxr9OS7DKab"
      },
      "execution_count": 220,
      "outputs": []
    },
    {
      "cell_type": "code",
      "source": [
        "from scipy.special import boxcox1p\n",
        "raw_df['RoomService'] = raw_df['RoomService'].apply(lambda x: boxcox1p(x,0.25))\n",
        "raw_df['FoodCourt'] = raw_df['FoodCourt'].apply(lambda x: boxcox1p(x,0.25))\n",
        "raw_df['ShoppingMall'] = raw_df['ShoppingMall'].apply(lambda x: boxcox1p(x,0.25))\n",
        "raw_df['Spa'] = raw_df['Spa'].apply(lambda x: boxcox1p(x,0.25))\n",
        "raw_df['VRDeck'] = raw_df['VRDeck'].apply(lambda x: boxcox1p(x,0.25))"
      ],
      "metadata": {
        "id": "f2KsPYE-D-dU"
      },
      "execution_count": 221,
      "outputs": []
    },
    {
      "cell_type": "code",
      "source": [
        "import matplotlib.pyplot as plt\n",
        "import seaborn as sns\n",
        "# sns.kdeplot(data=combined_data,x=\"Age\")\n",
        "kde_plot = ['RoomService','FoodCourt','ShoppingMall','Spa','VRDeck']\n",
        "\n",
        "for col in kde_plot:\n",
        "    plt.figure(figsize=(10,6))\n",
        "    sns.kdeplot(data=raw_df,x=col)\n",
        "    plt.title(f'Distribution for {col}')\n",
        "    plt.show()"
      ],
      "metadata": {
        "colab": {
          "base_uri": "https://localhost:8080/",
          "height": 1000
        },
        "id": "Mytzv0ZdD-gh",
        "outputId": "930a6169-ec83-4667-8484-fcaf28da2997"
      },
      "execution_count": 222,
      "outputs": [
        {
          "output_type": "display_data",
          "data": {
            "text/plain": [
              "<Figure size 720x432 with 1 Axes>"
            ],
            "image/png": "[encoded data removed]"
          },
          "metadata": {
            "needs_background": "light"
          }
        },
        {
          "output_type": "display_data",
          "data": {
            "text/plain": [
              "<Figure size 720x432 with 1 Axes>"
            ],
            "image/png": "[encoded data removed]"
          },
          "metadata": {
            "needs_background": "light"
          }
        },
        {
          "output_type": "display_data",
          "data": {
            "text/plain": [
              "<Figure size 720x432 with 1 Axes>"
            ],
            "image/png": "[encoded data removed]"
          },
          "metadata": {
            "needs_background": "light"
          }
        },
        {
          "output_type": "display_data",
          "data": {
            "text/plain": [
              "<Figure size 720x432 with 1 Axes>"
            ],
            "image/png": "[encoded data removed]"
          },
          "metadata": {
            "needs_background": "light"
          }
        },
        {
          "output_type": "display_data",
          "data": {
            "text/plain": [
              "<Figure size 720x432 with 1 Axes>"
            ],
            "image/png": "[encoded data removed]"
          },
          "metadata": {
            "needs_background": "light"
          }
        }
      ]
    },
    {
      "cell_type": "code",
      "source": [
        "train_id = raw_df['PassengerId']\n"
      ],
      "metadata": {
        "id": "DpwvxOQG3JkX"
      },
      "execution_count": 223,
      "outputs": []
    },
    {
      "cell_type": "code",
      "source": [
        "raw_df.head()"
      ],
      "metadata": {
        "colab": {
          "base_uri": "https://localhost:8080/",
          "height": 270
        },
        "id": "r4OhmWlKEUTr",
        "outputId": "7f9472d3-30b3-4572-939b-7d66b7439fe8"
      },
      "execution_count": 224,
      "outputs": [
        {
          "output_type": "execute_result",
          "data": {
            "text/plain": [
              "  PassengerId HomePlanet  CryoSleep  Destination   Age  VIP  RoomService  \\\n",
              "0     0001_01     Europa        0.0  TRAPPIST-1e  39.0  0.0     0.000000   \n",
              "1     0002_01      Earth        0.0  TRAPPIST-1e  24.0  0.0     8.954127   \n",
              "2     0003_01     Europa        0.0  TRAPPIST-1e  58.0  1.0     6.302038   \n",
              "3     0003_02     Europa        0.0  TRAPPIST-1e  33.0  0.0     0.000000   \n",
              "4     0004_01      Earth        0.0  TRAPPIST-1e  16.0  0.0    12.702381   \n",
              "\n",
              "   FoodCourt  ShoppingMall        Spa     VRDeck Transported   mode group  \\\n",
              "0   0.000000      0.000000   0.000000   0.000000       False  train  0001   \n",
              "1   3.113118      5.032403  15.370939   6.360080        True  train  0002   \n",
              "2  26.934260      0.000000  32.210762   6.636592       False  train  0003   \n",
              "3  19.944250     13.566924  26.385826  10.928302       False  train  0003   \n",
              "4   7.611132     10.044972  15.510307   1.264296        True  train  0004   \n",
              "\n",
              "  n_within_grp deck num side  luxury_spending  \n",
              "0           01    B   0    P              0.0  \n",
              "1           01    F   0    S            736.0  \n",
              "2           01    A   0    S          10383.0  \n",
              "3           02    A   0    S           5176.0  \n",
              "4           01    F   1    S           1091.0  "
            ],
            "text/html": [
              "\n",
              "  <div id=\"df-feb842bc-7d2c-452b-9e42-10edc194aee1\">\n",
              "    <div class=\"colab-df-container\">\n",
              "      <div>\n",
              "<style scoped>\n",
              "    .dataframe tbody tr th:only-of-type {\n",
              "        vertical-align: middle;\n",
              "    }\n",
              "\n",
              "    .dataframe tbody tr th {\n",
              "        vertical-align: top;\n",
              "    }\n",
              "\n",
              "    .dataframe thead th {\n",
              "        text-align: right;\n",
              "    }\n",
              "</style>\n",
              "<table border=\"1\" class=\"dataframe\">\n",
              "  <thead>\n",
              "    <tr style=\"text-align: right;\">\n",
              "      <th></th>\n",
              "      <th>PassengerId</th>\n",
              "      <th>HomePlanet</th>\n",
              "      <th>CryoSleep</th>\n",
              "      <th>Destination</th>\n",
              "      <th>Age</th>\n",
              "      <th>VIP</th>\n",
              "      <th>RoomService</th>\n",
              "      <th>FoodCourt</th>\n",
              "      <th>ShoppingMall</th>\n",
              "      <th>Spa</th>\n",
              "      <th>VRDeck</th>\n",
              "      <th>Transported</th>\n",
              "      <th>mode</th>\n",
              "      <th>group</th>\n",
              "      <th>n_within_grp</th>\n",
              "      <th>deck</th>\n",
              "      <th>num</th>\n",
              "      <th>side</th>\n",
              "      <th>luxury_spending</th>\n",
              "    </tr>\n",
              "  </thead>\n",
              "  <tbody>\n",
              "    <tr>\n",
              "      <th>0</th>\n",
              "      <td>0001_01</td>\n",
              "      <td>Europa</td>\n",
              "      <td>0.0</td>\n",
              "      <td>TRAPPIST-1e</td>\n",
              "      <td>39.0</td>\n",
              "      <td>0.0</td>\n",
              "      <td>0.000000</td>\n",
              "      <td>0.000000</td>\n",
              "      <td>0.000000</td>\n",
              "      <td>0.000000</td>\n",
              "      <td>0.000000</td>\n",
              "      <td>False</td>\n",
              "      <td>train</td>\n",
              "      <td>0001</td>\n",
              "      <td>01</td>\n",
              "      <td>B</td>\n",
              "      <td>0</td>\n",
              "      <td>P</td>\n",
              "      <td>0.0</td>\n",
              "    </tr>\n",
              "    <tr>\n",
              "      <th>1</th>\n",
              "      <td>0002_01</td>\n",
              "      <td>Earth</td>\n",
              "      <td>0.0</td>\n",
              "      <td>TRAPPIST-1e</td>\n",
              "      <td>24.0</td>\n",
              "      <td>0.0</td>\n",
              "      <td>8.954127</td>\n",
              "      <td>3.113118</td>\n",
              "      <td>5.032403</td>\n",
              "      <td>15.370939</td>\n",
              "      <td>6.360080</td>\n",
              "      <td>True</td>\n",
              "      <td>train</td>\n",
              "      <td>0002</td>\n",
              "      <td>01</td>\n",
              "      <td>F</td>\n",
              "      <td>0</td>\n",
              "      <td>S</td>\n",
              "      <td>736.0</td>\n",
              "    </tr>\n",
              "    <tr>\n",
              "      <th>2</th>\n",
              "      <td>0003_01</td>\n",
              "      <td>Europa</td>\n",
              "      <td>0.0</td>\n",
              "      <td>TRAPPIST-1e</td>\n",
              "      <td>58.0</td>\n",
              "      <td>1.0</td>\n",
              "      <td>6.302038</td>\n",
              "      <td>26.934260</td>\n",
              "      <td>0.000000</td>\n",
              "      <td>32.210762</td>\n",
              "      <td>6.636592</td>\n",
              "      <td>False</td>\n",
              "      <td>train</td>\n",
              "      <td>0003</td>\n",
              "      <td>01</td>\n",
              "      <td>A</td>\n",
              "      <td>0</td>\n",
              "      <td>S</td>\n",
              "      <td>10383.0</td>\n",
              "    </tr>\n",
              "    <tr>\n",
              "      <th>3</th>\n",
              "      <td>0003_02</td>\n",
              "      <td>Europa</td>\n",
              "      <td>0.0</td>\n",
              "      <td>TRAPPIST-1e</td>\n",
              "      <td>33.0</td>\n",
              "      <td>0.0</td>\n",
              "      <td>0.000000</td>\n",
              "      <td>19.944250</td>\n",
              "      <td>13.566924</td>\n",
              "      <td>26.385826</td>\n",
              "      <td>10.928302</td>\n",
              "      <td>False</td>\n",
              "      <td>train</td>\n",
              "      <td>0003</td>\n",
              "      <td>02</td>\n",
              "      <td>A</td>\n",
              "      <td>0</td>\n",
              "      <td>S</td>\n",
              "      <td>5176.0</td>\n",
              "    </tr>\n",
              "    <tr>\n",
              "      <th>4</th>\n",
              "      <td>0004_01</td>\n",
              "      <td>Earth</td>\n",
              "      <td>0.0</td>\n",
              "      <td>TRAPPIST-1e</td>\n",
              "      <td>16.0</td>\n",
              "      <td>0.0</td>\n",
              "      <td>12.702381</td>\n",
              "      <td>7.611132</td>\n",
              "      <td>10.044972</td>\n",
              "      <td>15.510307</td>\n",
              "      <td>1.264296</td>\n",
              "      <td>True</td>\n",
              "      <td>train</td>\n",
              "      <td>0004</td>\n",
              "      <td>01</td>\n",
              "      <td>F</td>\n",
              "      <td>1</td>\n",
              "      <td>S</td>\n",
              "      <td>1091.0</td>\n",
              "    </tr>\n",
              "  </tbody>\n",
              "</table>\n",
              "</div>\n",
              "      <button class=\"colab-df-convert\" onclick=\"convertToInteractive('df-feb842bc-7d2c-452b-9e42-10edc194aee1')\"\n",
              "              title=\"Convert this dataframe to an interactive table.\"\n",
              "              style=\"display:none;\">\n",
              "        \n",
              "  <svg xmlns=\"http://www.w3.org/2000/svg\" height=\"24px\"viewBox=\"0 0 24 24\"\n",
              "       width=\"24px\">\n",
              "    <path d=\"M0 0h24v24H0V0z\" fill=\"none\"/>\n",
              "    <path d=\"M18.56 5.44l.94 2.06.94-2.06 2.06-.94-2.06-.94-.94-2.06-.94 2.06-2.06.94zm-11 1L8.5 8.5l.94-2.06 2.06-.94-2.06-.94L8.5 2.5l-.94 2.06-2.06.94zm10 10l.94 2.06.94-2.06 2.06-.94-2.06-.94-.94-2.06-.94 2.06-2.06.94z\"/><path d=\"M17.41 7.96l-1.37-1.37c-.4-.4-.92-.59-1.43-.59-.52 0-1.04.2-1.43.59L10.3 9.45l-7.72 7.72c-.78.78-.78 2.05 0 2.83L4 21.41c.39.39.9.59 1.41.59.51 0 1.02-.2 1.41-.59l7.78-7.78 2.81-2.81c.8-.78.8-2.07 0-2.86zM5.41 20L4 18.59l7.72-7.72 1.47 1.35L5.41 20z\"/>\n",
              "  </svg>\n",
              "      </button>\n",
              "      \n",
              "  <style>\n",
              "    .colab-df-container {\n",
              "      display:flex;\n",
              "      flex-wrap:wrap;\n",
              "      gap: 12px;\n",
              "    }\n",
              "\n",
              "    .colab-df-convert {\n",
              "      background-color: #E8F0FE;\n",
              "      border: none;\n",
              "      border-radius: 50%;\n",
              "      cursor: pointer;\n",
              "      display: none;\n",
              "      fill: #1967D2;\n",
              "      height: 32px;\n",
              "      padding: 0 0 0 0;\n",
              "      width: 32px;\n",
              "    }\n",
              "\n",
              "    .colab-df-convert:hover {\n",
              "      background-color: #E2EBFA;\n",
              "      box-shadow: 0px 1px 2px rgba(60, 64, 67, 0.3), 0px 1px 3px 1px rgba(60, 64, 67, 0.15);\n",
              "      fill: #174EA6;\n",
              "    }\n",
              "\n",
              "    [theme=dark] .colab-df-convert {\n",
              "      background-color: #3B4455;\n",
              "      fill: #D2E3FC;\n",
              "    }\n",
              "\n",
              "    [theme=dark] .colab-df-convert:hover {\n",
              "      background-color: #434B5C;\n",
              "      box-shadow: 0px 1px 3px 1px rgba(0, 0, 0, 0.15);\n",
              "      filter: drop-shadow(0px 1px 2px rgba(0, 0, 0, 0.3));\n",
              "      fill: #FFFFFF;\n",
              "    }\n",
              "  </style>\n",
              "\n",
              "      <script>\n",
              "        const buttonEl =\n",
              "          document.querySelector('#df-feb842bc-7d2c-452b-9e42-10edc194aee1 button.colab-df-convert');\n",
              "        buttonEl.style.display =\n",
              "          google.colab.kernel.accessAllowed ? 'block' : 'none';\n",
              "\n",
              "        async function convertToInteractive(key) {\n",
              "          const element = document.querySelector('#df-feb842bc-7d2c-452b-9e42-10edc194aee1');\n",
              "          const dataTable =\n",
              "            await google.colab.kernel.invokeFunction('convertToInteractive',\n",
              "                                                     [key], {});\n",
              "          if (!dataTable) return;\n",
              "\n",
              "          const docLinkHtml = 'Like what you see? Visit the ' +\n",
              "            '<a target=\"_blank\" href=https://colab.research.google.com/notebooks/data_table.ipynb>data table notebook</a>'\n",
              "            + ' to learn more about interactive tables.';\n",
              "          element.innerHTML = '';\n",
              "          dataTable['output_type'] = 'display_data';\n",
              "          await google.colab.output.renderOutput(dataTable, element);\n",
              "          const docLink = document.createElement('div');\n",
              "          docLink.innerHTML = docLinkHtml;\n",
              "          element.appendChild(docLink);\n",
              "        }\n",
              "      </script>\n",
              "    </div>\n",
              "  </div>\n",
              "  "
            ]
          },
          "metadata": {},
          "execution_count": 224
        }
      ]
    },
    {
      "cell_type": "code",
      "source": [
        "test_data.isnull().sum()"
      ],
      "metadata": {
        "colab": {
          "base_uri": "https://localhost:8080/"
        },
        "id": "wW-shWsNH9qE",
        "outputId": "cbefc522-383d-4f5b-93a0-d65800b2286b"
      },
      "execution_count": 225,
      "outputs": [
        {
          "output_type": "execute_result",
          "data": {
            "text/plain": [
              "PassengerId       0\n",
              "HomePlanet       87\n",
              "CryoSleep        93\n",
              "Cabin           100\n",
              "Destination      92\n",
              "Age              91\n",
              "VIP              93\n",
              "RoomService      82\n",
              "FoodCourt       106\n",
              "ShoppingMall     98\n",
              "Spa             101\n",
              "VRDeck           80\n",
              "Name             94\n",
              "mode              0\n",
              "dtype: int64"
            ]
          },
          "metadata": {},
          "execution_count": 225
        }
      ]
    },
    {
      "cell_type": "code",
      "source": [
        "test_data.columns"
      ],
      "metadata": {
        "colab": {
          "base_uri": "https://localhost:8080/"
        },
        "id": "NtuffQGlHlkF",
        "outputId": "fd46be94-cd55-4577-9a7d-25d96d011780"
      },
      "execution_count": 226,
      "outputs": [
        {
          "output_type": "execute_result",
          "data": {
            "text/plain": [
              "Index(['PassengerId', 'HomePlanet', 'CryoSleep', 'Cabin', 'Destination', 'Age',\n",
              "       'VIP', 'RoomService', 'FoodCourt', 'ShoppingMall', 'Spa', 'VRDeck',\n",
              "       'Name', 'mode'],\n",
              "      dtype='object')"
            ]
          },
          "metadata": {},
          "execution_count": 226
        }
      ]
    },
    {
      "cell_type": "code",
      "source": [
        "#Checking if Imbalanced class\n",
        "class_count_0, class_count_1 = raw_df['Transported'].value_counts()\n",
        "\n",
        "# Separate class\n",
        "class_0 = raw_df[raw_df['Transported'] == 0]\n",
        "class_1 = raw_df[raw_df['Transported'] == 1]# print the shape of the class\n",
        "print('class 0:', class_0.shape)\n",
        "print('class 1:', class_1.shape)\n",
        "raw_df['Transported'].value_counts().plot(kind='bar', title='count (target)')"
      ],
      "metadata": {
        "colab": {
          "base_uri": "https://localhost:8080/",
          "height": 352
        },
        "id": "ZJU_qIkb0WY3",
        "outputId": "cb5f89cf-13d7-4495-98d2-eec5ba955c98"
      },
      "execution_count": 227,
      "outputs": [
        {
          "output_type": "stream",
          "name": "stdout",
          "text": [
            "class 0: (4315, 19)\n",
            "class 1: (4378, 19)\n"
          ]
        },
        {
          "output_type": "execute_result",
          "data": {
            "text/plain": [
              "<matplotlib.axes._subplots.AxesSubplot at 0x7f05626afe50>"
            ]
          },
          "metadata": {},
          "execution_count": 227
        },
        {
          "output_type": "display_data",
          "data": {
            "text/plain": [
              "<Figure size 432x288 with 1 Axes>"
            ],
            "image/png": "[encoded data removed]"
          },
          "metadata": {
            "needs_background": "light"
          }
        }
      ]
    },
    {
      "cell_type": "code",
      "source": [
        "raw_df.columns"
      ],
      "metadata": {
        "colab": {
          "base_uri": "https://localhost:8080/"
        },
        "id": "sK27_HGxJ7_d",
        "outputId": "f7062640-83a3-4369-b380-cce0d1678d7d"
      },
      "execution_count": 228,
      "outputs": [
        {
          "output_type": "execute_result",
          "data": {
            "text/plain": [
              "Index(['PassengerId', 'HomePlanet', 'CryoSleep', 'Destination', 'Age', 'VIP',\n",
              "       'RoomService', 'FoodCourt', 'ShoppingMall', 'Spa', 'VRDeck',\n",
              "       'Transported', 'mode', 'group', 'n_within_grp', 'deck', 'num', 'side',\n",
              "       'luxury_spending'],\n",
              "      dtype='object')"
            ]
          },
          "metadata": {},
          "execution_count": 228
        }
      ]
    },
    {
      "cell_type": "code",
      "source": [
        "#Detecting for outliers\n",
        "import seaborn as sns\n",
        "df_2 = raw_df[['HomePlanet', 'CryoSleep', 'Destination', 'Age', 'VIP', 'RoomService',\n",
        "       'FoodCourt', 'ShoppingMall', 'Spa', 'VRDeck', 'Transported', 'deck',\n",
        "       'num', 'side']]\n",
        "\n",
        "ax = sns.boxplot(data=df_2, orient=\"h\", palette=\"Set2\")"
      ],
      "metadata": {
        "colab": {
          "base_uri": "https://localhost:8080/",
          "height": 265
        },
        "id": "Us7gzj1y1SPD",
        "outputId": "ee901822-3138-4d2c-9634-284c20a220b0"
      },
      "execution_count": 229,
      "outputs": [
        {
          "output_type": "display_data",
          "data": {
            "text/plain": [
              "<Figure size 432x288 with 1 Axes>"
            ],
            "image/png": "[encoded data removed]"
          },
          "metadata": {
            "needs_background": "light"
          }
        }
      ]
    },
    {
      "cell_type": "code",
      "source": [
        "raw_df.isnull().sum()"
      ],
      "metadata": {
        "colab": {
          "base_uri": "https://localhost:8080/"
        },
        "id": "07DDGh-mCNOF",
        "outputId": "1f97ad7b-8fce-411b-c00d-9c7a614f90f3"
      },
      "execution_count": 230,
      "outputs": [
        {
          "output_type": "execute_result",
          "data": {
            "text/plain": [
              "PassengerId           0\n",
              "HomePlanet            0\n",
              "CryoSleep             0\n",
              "Destination           0\n",
              "Age                   0\n",
              "VIP                   0\n",
              "RoomService           0\n",
              "FoodCourt             0\n",
              "ShoppingMall          0\n",
              "Spa                   0\n",
              "VRDeck                0\n",
              "Transported        4277\n",
              "mode                  0\n",
              "group                 0\n",
              "n_within_grp          0\n",
              "deck                  0\n",
              "num                   0\n",
              "side                  0\n",
              "luxury_spending       0\n",
              "dtype: int64"
            ]
          },
          "metadata": {},
          "execution_count": 230
        }
      ]
    },
    {
      "cell_type": "code",
      "source": [
        "\n",
        "'''\n",
        "# Removing outliers\n",
        "import sklearn\n",
        "import numpy as np\n",
        "import pandas as pd\n",
        "\n",
        "Q1 = np.percentile(raw_df['RoomService'], 25, interpolation = 'midpoint')\n",
        "Q3 = np.percentile(raw_df['RoomService'], 75, interpolation = 'midpoint')\n",
        "IQR = Q3 - Q1\n",
        "# Upper bound\n",
        "upper = np.where(raw_df['RoomService'] >= (Q3+1.5*IQR))\n",
        "# Lower bound\n",
        "lower = np.where(raw_df['RoomService'] <= (Q1-1.5*IQR))\n",
        "\n",
        "Removing the Outliers \n",
        "raw_df.drop(upper[0], inplace = True)\n",
        "raw_df.drop(lower[0], inplace = True)\n",
        "\n",
        "Q1 = np.percentile(raw_df['RoomService'], 25, interpolation = 'midpoint')\n",
        "Q3 = np.percentile(raw_df['RoomService'], 75, interpolation = 'midpoint')\n",
        "IQR = Q3 - Q1\n",
        "# Upper bound\n",
        "upper = np.where(raw_df['RoomService'] >= (Q3+1.5*IQR))\n",
        "# Lower bound\n",
        "lower = np.where(raw_df['RoomService'] <= (Q1-1.5*IQR))\n",
        "\n",
        " Removing the Outliers \n",
        "raw_df.drop(upper[0], inplace = True)\n",
        "raw_df.drop(lower[0], inplace = True)\n",
        "\n",
        "print(\"New Shape: \", raw_df.shape)\n",
        "'''"
      ],
      "metadata": {
        "colab": {
          "base_uri": "https://localhost:8080/",
          "height": 201
        },
        "id": "Qv9fYova4Cq1",
        "outputId": "68efe163-4313-444b-9a8e-db4f2f6b0d10"
      },
      "execution_count": 187,
      "outputs": [
        {
          "output_type": "execute_result",
          "data": {
            "text/plain": [
              "'\\n# Removing outliers\\nimport sklearn\\nimport numpy as np\\nimport pandas as pd\\n\\nQ1 = np.percentile(raw_df[\\'RoomService\\'], 25, interpolation = \\'midpoint\\')\\nQ3 = np.percentile(raw_df[\\'RoomService\\'], 75, interpolation = \\'midpoint\\')\\nIQR = Q3 - Q1\\n# Upper bound\\nupper = np.where(raw_df[\\'RoomService\\'] >= (Q3+1.5*IQR))\\n# Lower bound\\nlower = np.where(raw_df[\\'RoomService\\'] <= (Q1-1.5*IQR))\\n\\nRemoving the Outliers \\nraw_df.drop(upper[0], inplace = True)\\nraw_df.drop(lower[0], inplace = True)\\n\\nQ1 = np.percentile(raw_df[\\'RoomService\\'], 25, interpolation = \\'midpoint\\')\\nQ3 = np.percentile(raw_df[\\'RoomService\\'], 75, interpolation = \\'midpoint\\')\\nIQR = Q3 - Q1\\n# Upper bound\\nupper = np.where(raw_df[\\'RoomService\\'] >= (Q3+1.5*IQR))\\n# Lower bound\\nlower = np.where(raw_df[\\'RoomService\\'] <= (Q1-1.5*IQR))\\n\\n Removing the Outliers \\nraw_df.drop(upper[0], inplace = True)\\nraw_df.drop(lower[0], inplace = True)\\n\\nprint(\"New Shape: \", raw_df.shape)\\n'"
            ],
            "application/vnd.google.colaboratory.intrinsic+json": {
              "type": "string"
            }
          },
          "metadata": {},
          "execution_count": 187
        }
      ]
    },
    {
      "cell_type": "code",
      "source": [
        "# checking categorical features\n",
        "cat = raw_df.select_dtypes(include='O').keys()\n",
        "# display variabels\n",
        "cat"
      ],
      "metadata": {
        "colab": {
          "base_uri": "https://localhost:8080/"
        },
        "id": "0vWGG1BnLbPS",
        "outputId": "bc44b39a-fe1b-41e2-a040-8e0f24909cc7"
      },
      "execution_count": 231,
      "outputs": [
        {
          "output_type": "execute_result",
          "data": {
            "text/plain": [
              "Index(['PassengerId', 'HomePlanet', 'Destination', 'Transported', 'mode',\n",
              "       'group', 'n_within_grp', 'deck', 'num', 'side'],\n",
              "      dtype='object')"
            ]
          },
          "metadata": {},
          "execution_count": 231
        }
      ]
    },
    {
      "cell_type": "code",
      "source": [
        "# creating new df setting columns we use\n",
        "\n",
        "new_cat_df = raw_df[['HomePlanet', 'Destination', 'deck', 'side']]\n",
        "new_cat_df.head()"
      ],
      "metadata": {
        "colab": {
          "base_uri": "https://localhost:8080/",
          "height": 206
        },
        "id": "rqZFGhjPRSZl",
        "outputId": "a9eceb84-4b11-4396-a59e-59233aeb1338"
      },
      "execution_count": 232,
      "outputs": [
        {
          "output_type": "execute_result",
          "data": {
            "text/plain": [
              "  HomePlanet  Destination deck side\n",
              "0     Europa  TRAPPIST-1e    B    P\n",
              "1      Earth  TRAPPIST-1e    F    S\n",
              "2     Europa  TRAPPIST-1e    A    S\n",
              "3     Europa  TRAPPIST-1e    A    S\n",
              "4      Earth  TRAPPIST-1e    F    S"
            ],
            "text/html": [
              "\n",
              "  <div id=\"df-e262958a-2727-4291-9763-f1ff08e77739\">\n",
              "    <div class=\"colab-df-container\">\n",
              "      <div>\n",
              "<style scoped>\n",
              "    .dataframe tbody tr th:only-of-type {\n",
              "        vertical-align: middle;\n",
              "    }\n",
              "\n",
              "    .dataframe tbody tr th {\n",
              "        vertical-align: top;\n",
              "    }\n",
              "\n",
              "    .dataframe thead th {\n",
              "        text-align: right;\n",
              "    }\n",
              "</style>\n",
              "<table border=\"1\" class=\"dataframe\">\n",
              "  <thead>\n",
              "    <tr style=\"text-align: right;\">\n",
              "      <th></th>\n",
              "      <th>HomePlanet</th>\n",
              "      <th>Destination</th>\n",
              "      <th>deck</th>\n",
              "      <th>side</th>\n",
              "    </tr>\n",
              "  </thead>\n",
              "  <tbody>\n",
              "    <tr>\n",
              "      <th>0</th>\n",
              "      <td>Europa</td>\n",
              "      <td>TRAPPIST-1e</td>\n",
              "      <td>B</td>\n",
              "      <td>P</td>\n",
              "    </tr>\n",
              "    <tr>\n",
              "      <th>1</th>\n",
              "      <td>Earth</td>\n",
              "      <td>TRAPPIST-1e</td>\n",
              "      <td>F</td>\n",
              "      <td>S</td>\n",
              "    </tr>\n",
              "    <tr>\n",
              "      <th>2</th>\n",
              "      <td>Europa</td>\n",
              "      <td>TRAPPIST-1e</td>\n",
              "      <td>A</td>\n",
              "      <td>S</td>\n",
              "    </tr>\n",
              "    <tr>\n",
              "      <th>3</th>\n",
              "      <td>Europa</td>\n",
              "      <td>TRAPPIST-1e</td>\n",
              "      <td>A</td>\n",
              "      <td>S</td>\n",
              "    </tr>\n",
              "    <tr>\n",
              "      <th>4</th>\n",
              "      <td>Earth</td>\n",
              "      <td>TRAPPIST-1e</td>\n",
              "      <td>F</td>\n",
              "      <td>S</td>\n",
              "    </tr>\n",
              "  </tbody>\n",
              "</table>\n",
              "</div>\n",
              "      <button class=\"colab-df-convert\" onclick=\"convertToInteractive('df-e262958a-2727-4291-9763-f1ff08e77739')\"\n",
              "              title=\"Convert this dataframe to an interactive table.\"\n",
              "              style=\"display:none;\">\n",
              "        \n",
              "  <svg xmlns=\"http://www.w3.org/2000/svg\" height=\"24px\"viewBox=\"0 0 24 24\"\n",
              "       width=\"24px\">\n",
              "    <path d=\"M0 0h24v24H0V0z\" fill=\"none\"/>\n",
              "    <path d=\"M18.56 5.44l.94 2.06.94-2.06 2.06-.94-2.06-.94-.94-2.06-.94 2.06-2.06.94zm-11 1L8.5 8.5l.94-2.06 2.06-.94-2.06-.94L8.5 2.5l-.94 2.06-2.06.94zm10 10l.94 2.06.94-2.06 2.06-.94-2.06-.94-.94-2.06-.94 2.06-2.06.94z\"/><path d=\"M17.41 7.96l-1.37-1.37c-.4-.4-.92-.59-1.43-.59-.52 0-1.04.2-1.43.59L10.3 9.45l-7.72 7.72c-.78.78-.78 2.05 0 2.83L4 21.41c.39.39.9.59 1.41.59.51 0 1.02-.2 1.41-.59l7.78-7.78 2.81-2.81c.8-.78.8-2.07 0-2.86zM5.41 20L4 18.59l7.72-7.72 1.47 1.35L5.41 20z\"/>\n",
              "  </svg>\n",
              "      </button>\n",
              "      \n",
              "  <style>\n",
              "    .colab-df-container {\n",
              "      display:flex;\n",
              "      flex-wrap:wrap;\n",
              "      gap: 12px;\n",
              "    }\n",
              "\n",
              "    .colab-df-convert {\n",
              "      background-color: #E8F0FE;\n",
              "      border: none;\n",
              "      border-radius: 50%;\n",
              "      cursor: pointer;\n",
              "      display: none;\n",
              "      fill: #1967D2;\n",
              "      height: 32px;\n",
              "      padding: 0 0 0 0;\n",
              "      width: 32px;\n",
              "    }\n",
              "\n",
              "    .colab-df-convert:hover {\n",
              "      background-color: #E2EBFA;\n",
              "      box-shadow: 0px 1px 2px rgba(60, 64, 67, 0.3), 0px 1px 3px 1px rgba(60, 64, 67, 0.15);\n",
              "      fill: #174EA6;\n",
              "    }\n",
              "\n",
              "    [theme=dark] .colab-df-convert {\n",
              "      background-color: #3B4455;\n",
              "      fill: #D2E3FC;\n",
              "    }\n",
              "\n",
              "    [theme=dark] .colab-df-convert:hover {\n",
              "      background-color: #434B5C;\n",
              "      box-shadow: 0px 1px 3px 1px rgba(0, 0, 0, 0.15);\n",
              "      filter: drop-shadow(0px 1px 2px rgba(0, 0, 0, 0.3));\n",
              "      fill: #FFFFFF;\n",
              "    }\n",
              "  </style>\n",
              "\n",
              "      <script>\n",
              "        const buttonEl =\n",
              "          document.querySelector('#df-e262958a-2727-4291-9763-f1ff08e77739 button.colab-df-convert');\n",
              "        buttonEl.style.display =\n",
              "          google.colab.kernel.accessAllowed ? 'block' : 'none';\n",
              "\n",
              "        async function convertToInteractive(key) {\n",
              "          const element = document.querySelector('#df-e262958a-2727-4291-9763-f1ff08e77739');\n",
              "          const dataTable =\n",
              "            await google.colab.kernel.invokeFunction('convertToInteractive',\n",
              "                                                     [key], {});\n",
              "          if (!dataTable) return;\n",
              "\n",
              "          const docLinkHtml = 'Like what you see? Visit the ' +\n",
              "            '<a target=\"_blank\" href=https://colab.research.google.com/notebooks/data_table.ipynb>data table notebook</a>'\n",
              "            + ' to learn more about interactive tables.';\n",
              "          element.innerHTML = '';\n",
              "          dataTable['output_type'] = 'display_data';\n",
              "          await google.colab.output.renderOutput(dataTable, element);\n",
              "          const docLink = document.createElement('div');\n",
              "          docLink.innerHTML = docLinkHtml;\n",
              "          element.appendChild(docLink);\n",
              "        }\n",
              "      </script>\n",
              "    </div>\n",
              "  </div>\n",
              "  "
            ]
          },
          "metadata": {},
          "execution_count": 232
        }
      ]
    },
    {
      "cell_type": "code",
      "source": [
        "# unique values in each columns\n",
        "for x in new_cat_df.columns:\n",
        "    #prinfting unique values\n",
        "    print(x ,':', len(new_cat_df[x].unique()))"
      ],
      "metadata": {
        "colab": {
          "base_uri": "https://localhost:8080/"
        },
        "id": "LGAi2vPARs4z",
        "outputId": "ba72154d-0479-4373-8a9c-d41d023e8de6"
      },
      "execution_count": 233,
      "outputs": [
        {
          "output_type": "stream",
          "name": "stdout",
          "text": [
            "HomePlanet : 3\n",
            "Destination : 3\n",
            "deck : 8\n",
            "side : 2\n"
          ]
        }
      ]
    },
    {
      "cell_type": "code",
      "source": [
        "# evaluate logistic regression on the breast cancer dataset with an one-hot encoding\n",
        "from numpy import mean\n",
        "from numpy import std\n",
        "from pandas import read_csv\n",
        "from sklearn.model_selection import train_test_split\n",
        "from sklearn.linear_model import LogisticRegression\n",
        "from sklearn.preprocessing import LabelEncoder\n",
        "from sklearn.preprocessing import OneHotEncoder\n",
        "from sklearn.metrics import accuracy_score"
      ],
      "metadata": {
        "id": "CyHHuVdQUv51"
      },
      "execution_count": 234,
      "outputs": []
    },
    {
      "cell_type": "code",
      "source": [
        "raw_df['Transported'] = raw_df['Transported'].map({True:1,False:0})"
      ],
      "metadata": {
        "id": "M7BGzuN0ZxOF"
      },
      "execution_count": 235,
      "outputs": []
    },
    {
      "cell_type": "code",
      "source": [
        "\n",
        "# one-hot encode input variables\n",
        "#onehot_encoder = OneHotEncoder()\n",
        "#onehot_encoder.fit(new_cat_df)\n",
        "#new_cat_df = onehot_encoder.transform(new_cat_df)"
      ],
      "metadata": {
        "id": "I-hu6NeiSj1m"
      },
      "execution_count": 193,
      "outputs": []
    },
    {
      "cell_type": "code",
      "source": [
        "raw_df = pd.get_dummies(raw_df, columns = ['HomePlanet', 'Destination', 'deck', 'side'])\n",
        "print(raw_df)"
      ],
      "metadata": {
        "colab": {
          "base_uri": "https://localhost:8080/"
        },
        "id": "puo7yycZbJJS",
        "outputId": "d0073e7a-4280-41eb-ebfb-3ce735b5d30b"
      },
      "execution_count": 236,
      "outputs": [
        {
          "output_type": "stream",
          "name": "stdout",
          "text": [
            "      PassengerId  CryoSleep   Age  VIP  RoomService  FoodCourt  ShoppingMall  \\\n",
            "0         0001_01        0.0  39.0  0.0     0.000000   0.000000      0.000000   \n",
            "1         0002_01        0.0  24.0  0.0     8.954127   3.113118      5.032403   \n",
            "2         0003_01        0.0  58.0  1.0     6.302038  26.934260      0.000000   \n",
            "3         0003_02        0.0  33.0  0.0     0.000000  19.944250     13.566924   \n",
            "4         0004_01        0.0  16.0  0.0    12.702381   7.611132     10.044972   \n",
            "...           ...        ...   ...  ...          ...        ...           ...   \n",
            "12965     9266_02        1.0  34.0  0.0     0.000000   0.000000      0.000000   \n",
            "12966     9269_01        0.0  42.0  0.0     0.000000  17.585343      4.239069   \n",
            "12967     9271_01        1.0  27.0  0.0     0.000000   0.000000      0.000000   \n",
            "12968     9273_01        0.0  27.0  0.0     0.000000  24.782877      0.000000   \n",
            "12969     9277_01        1.0  43.0  0.0     0.000000   0.000000      0.000000   \n",
            "\n",
            "             Spa     VRDeck  Transported  ... deck_A deck_B deck_C deck_D  \\\n",
            "0       0.000000   0.000000          0.0  ...      0      1      0      0   \n",
            "1      15.370939   6.360080          1.0  ...      0      0      0      0   \n",
            "2      32.210762   6.636592          0.0  ...      1      0      0      0   \n",
            "3      26.385826  10.928302          0.0  ...      1      0      0      0   \n",
            "4      15.510307   1.264296          1.0  ...      0      0      0      0   \n",
            "...          ...        ...          ...  ...    ...    ...    ...    ...   \n",
            "12965   0.000000   0.000000          NaN  ...      0      0      0      0   \n",
            "12966   3.284641   9.880400          NaN  ...      0      0      0      0   \n",
            "12967   0.000000   0.000000          NaN  ...      0      0      0      1   \n",
            "12968   0.000000  15.137835          NaN  ...      0      0      0      1   \n",
            "12969   0.000000   0.000000          NaN  ...      0      0      0      0   \n",
            "\n",
            "       deck_E  deck_F  deck_G  deck_T  side_P  side_S  \n",
            "0           0       0       0       0       1       0  \n",
            "1           0       1       0       0       0       1  \n",
            "2           0       0       0       0       0       1  \n",
            "3           0       0       0       0       0       1  \n",
            "4           0       1       0       0       0       1  \n",
            "...       ...     ...     ...     ...     ...     ...  \n",
            "12965       0       0       1       0       0       1  \n",
            "12966       0       1       0       0       0       1  \n",
            "12967       0       0       0       0       1       0  \n",
            "12968       0       0       0       0       1       0  \n",
            "12969       0       0       1       0       0       1  \n",
            "\n",
            "[12970 rows x 31 columns]\n"
          ]
        }
      ]
    },
    {
      "cell_type": "code",
      "source": [
        "\n",
        "raw_df['num']=raw_df['num'].astype(int)\n",
        "train_data = raw_df.query(\"mode=='train'\")\n",
        "test_data = raw_df.query(\"mode=='test'\")\n",
        "train_data = train_data.drop(['mode','group','n_within_grp','luxury_spending','PassengerId']\n",
        "                             ,axis=1).reset_index(drop=True)\n",
        "#test_data = test_data.drop(['mode','PassengerId'],axis=1).reset_index(drop=True)\n",
        "test_data = test_data.drop(['mode','group','n_within_grp','Transported',\n",
        "                            'luxury_spending','PassengerId']\n",
        "                           ,axis=1).reset_index(drop=True)\n",
        "train_data.shape,test_data.shape"
      ],
      "metadata": {
        "colab": {
          "base_uri": "https://localhost:8080/"
        },
        "id": "NFjX4fDBEUQg",
        "outputId": "0151cb87-f7cd-48bb-b488-c0ce7ff59175"
      },
      "execution_count": 237,
      "outputs": [
        {
          "output_type": "execute_result",
          "data": {
            "text/plain": [
              "((8693, 26), (4277, 25))"
            ]
          },
          "metadata": {},
          "execution_count": 237
        }
      ]
    },
    {
      "cell_type": "code",
      "source": [
        "raw_df.query(\"mode=='train'\").shape,raw_df.query(\"mode=='test'\").shape"
      ],
      "metadata": {
        "colab": {
          "base_uri": "https://localhost:8080/"
        },
        "id": "5A1yUdaqD18b",
        "outputId": "1bacf73c-e141-4443-8a65-eed5339ec343"
      },
      "execution_count": 238,
      "outputs": [
        {
          "output_type": "execute_result",
          "data": {
            "text/plain": [
              "((8693, 31), (4277, 31))"
            ]
          },
          "metadata": {},
          "execution_count": 238
        }
      ]
    },
    {
      "cell_type": "code",
      "source": [
        "y=train_data['Transported']\n",
        "X=train_data.copy()\n",
        "X = X.drop('Transported', axis=1)"
      ],
      "metadata": {
        "id": "6YfSVkkoUyyB"
      },
      "execution_count": 239,
      "outputs": []
    },
    {
      "cell_type": "code",
      "source": [
        "X.head()"
      ],
      "metadata": {
        "colab": {
          "base_uri": "https://localhost:8080/",
          "height": 300
        },
        "id": "t84-Fcn2C2o0",
        "outputId": "d5e86d4d-56cf-4dee-b57d-b2ebc47cb191"
      },
      "execution_count": 240,
      "outputs": [
        {
          "output_type": "execute_result",
          "data": {
            "text/plain": [
              "   CryoSleep   Age  VIP  RoomService  FoodCourt  ShoppingMall        Spa  \\\n",
              "0        0.0  39.0  0.0     0.000000   0.000000      0.000000   0.000000   \n",
              "1        0.0  24.0  0.0     8.954127   3.113118      5.032403  15.370939   \n",
              "2        0.0  58.0  1.0     6.302038  26.934260      0.000000  32.210762   \n",
              "3        0.0  33.0  0.0     0.000000  19.944250     13.566924  26.385826   \n",
              "4        0.0  16.0  0.0    12.702381   7.611132     10.044972  15.510307   \n",
              "\n",
              "      VRDeck  num  HomePlanet_Earth  ...  deck_A  deck_B  deck_C  deck_D  \\\n",
              "0   0.000000    0                 0  ...       0       1       0       0   \n",
              "1   6.360080    0                 1  ...       0       0       0       0   \n",
              "2   6.636592    0                 0  ...       1       0       0       0   \n",
              "3  10.928302    0                 0  ...       1       0       0       0   \n",
              "4   1.264296    1                 1  ...       0       0       0       0   \n",
              "\n",
              "   deck_E  deck_F  deck_G  deck_T  side_P  side_S  \n",
              "0       0       0       0       0       1       0  \n",
              "1       0       1       0       0       0       1  \n",
              "2       0       0       0       0       0       1  \n",
              "3       0       0       0       0       0       1  \n",
              "4       0       1       0       0       0       1  \n",
              "\n",
              "[5 rows x 25 columns]"
            ],
            "text/html": [
              "\n",
              "  <div id=\"df-e8619512-a31a-4b74-a960-27cf885164af\">\n",
              "    <div class=\"colab-df-container\">\n",
              "      <div>\n",
              "<style scoped>\n",
              "    .dataframe tbody tr th:only-of-type {\n",
              "        vertical-align: middle;\n",
              "    }\n",
              "\n",
              "    .dataframe tbody tr th {\n",
              "        vertical-align: top;\n",
              "    }\n",
              "\n",
              "    .dataframe thead th {\n",
              "        text-align: right;\n",
              "    }\n",
              "</style>\n",
              "<table border=\"1\" class=\"dataframe\">\n",
              "  <thead>\n",
              "    <tr style=\"text-align: right;\">\n",
              "      <th></th>\n",
              "      <th>CryoSleep</th>\n",
              "      <th>Age</th>\n",
              "      <th>VIP</th>\n",
              "      <th>RoomService</th>\n",
              "      <th>FoodCourt</th>\n",
              "      <th>ShoppingMall</th>\n",
              "      <th>Spa</th>\n",
              "      <th>VRDeck</th>\n",
              "      <th>num</th>\n",
              "      <th>HomePlanet_Earth</th>\n",
              "      <th>...</th>\n",
              "      <th>deck_A</th>\n",
              "      <th>deck_B</th>\n",
              "      <th>deck_C</th>\n",
              "      <th>deck_D</th>\n",
              "      <th>deck_E</th>\n",
              "      <th>deck_F</th>\n",
              "      <th>deck_G</th>\n",
              "      <th>deck_T</th>\n",
              "      <th>side_P</th>\n",
              "      <th>side_S</th>\n",
              "    </tr>\n",
              "  </thead>\n",
              "  <tbody>\n",
              "    <tr>\n",
              "      <th>0</th>\n",
              "      <td>0.0</td>\n",
              "      <td>39.0</td>\n",
              "      <td>0.0</td>\n",
              "      <td>0.000000</td>\n",
              "      <td>0.000000</td>\n",
              "      <td>0.000000</td>\n",
              "      <td>0.000000</td>\n",
              "      <td>0.000000</td>\n",
              "      <td>0</td>\n",
              "      <td>0</td>\n",
              "      <td>...</td>\n",
              "      <td>0</td>\n",
              "      <td>1</td>\n",
              "      <td>0</td>\n",
              "      <td>0</td>\n",
              "      <td>0</td>\n",
              "      <td>0</td>\n",
              "      <td>0</td>\n",
              "      <td>0</td>\n",
              "      <td>1</td>\n",
              "      <td>0</td>\n",
              "    </tr>\n",
              "    <tr>\n",
              "      <th>1</th>\n",
              "      <td>0.0</td>\n",
              "      <td>24.0</td>\n",
              "      <td>0.0</td>\n",
              "      <td>8.954127</td>\n",
              "      <td>3.113118</td>\n",
              "      <td>5.032403</td>\n",
              "      <td>15.370939</td>\n",
              "      <td>6.360080</td>\n",
              "      <td>0</td>\n",
              "      <td>1</td>\n",
              "      <td>...</td>\n",
              "      <td>0</td>\n",
              "      <td>0</td>\n",
              "      <td>0</td>\n",
              "      <td>0</td>\n",
              "      <td>0</td>\n",
              "      <td>1</td>\n",
              "      <td>0</td>\n",
              "      <td>0</td>\n",
              "      <td>0</td>\n",
              "      <td>1</td>\n",
              "    </tr>\n",
              "    <tr>\n",
              "      <th>2</th>\n",
              "      <td>0.0</td>\n",
              "      <td>58.0</td>\n",
              "      <td>1.0</td>\n",
              "      <td>6.302038</td>\n",
              "      <td>26.934260</td>\n",
              "      <td>0.000000</td>\n",
              "      <td>32.210762</td>\n",
              "      <td>6.636592</td>\n",
              "      <td>0</td>\n",
              "      <td>0</td>\n",
              "      <td>...</td>\n",
              "      <td>1</td>\n",
              "      <td>0</td>\n",
              "      <td>0</td>\n",
              "      <td>0</td>\n",
              "      <td>0</td>\n",
              "      <td>0</td>\n",
              "      <td>0</td>\n",
              "      <td>0</td>\n",
              "      <td>0</td>\n",
              "      <td>1</td>\n",
              "    </tr>\n",
              "    <tr>\n",
              "      <th>3</th>\n",
              "      <td>0.0</td>\n",
              "      <td>33.0</td>\n",
              "      <td>0.0</td>\n",
              "      <td>0.000000</td>\n",
              "      <td>19.944250</td>\n",
              "      <td>13.566924</td>\n",
              "      <td>26.385826</td>\n",
              "      <td>10.928302</td>\n",
              "      <td>0</td>\n",
              "      <td>0</td>\n",
              "      <td>...</td>\n",
              "      <td>1</td>\n",
              "      <td>0</td>\n",
              "      <td>0</td>\n",
              "      <td>0</td>\n",
              "      <td>0</td>\n",
              "      <td>0</td>\n",
              "      <td>0</td>\n",
              "      <td>0</td>\n",
              "      <td>0</td>\n",
              "      <td>1</td>\n",
              "    </tr>\n",
              "    <tr>\n",
              "      <th>4</th>\n",
              "      <td>0.0</td>\n",
              "      <td>16.0</td>\n",
              "      <td>0.0</td>\n",
              "      <td>12.702381</td>\n",
              "      <td>7.611132</td>\n",
              "      <td>10.044972</td>\n",
              "      <td>15.510307</td>\n",
              "      <td>1.264296</td>\n",
              "      <td>1</td>\n",
              "      <td>1</td>\n",
              "      <td>...</td>\n",
              "      <td>0</td>\n",
              "      <td>0</td>\n",
              "      <td>0</td>\n",
              "      <td>0</td>\n",
              "      <td>0</td>\n",
              "      <td>1</td>\n",
              "      <td>0</td>\n",
              "      <td>0</td>\n",
              "      <td>0</td>\n",
              "      <td>1</td>\n",
              "    </tr>\n",
              "  </tbody>\n",
              "</table>\n",
              "<p>5 rows × 25 columns</p>\n",
              "</div>\n",
              "      <button class=\"colab-df-convert\" onclick=\"convertToInteractive('df-e8619512-a31a-4b74-a960-27cf885164af')\"\n",
              "              title=\"Convert this dataframe to an interactive table.\"\n",
              "              style=\"display:none;\">\n",
              "        \n",
              "  <svg xmlns=\"http://www.w3.org/2000/svg\" height=\"24px\"viewBox=\"0 0 24 24\"\n",
              "       width=\"24px\">\n",
              "    <path d=\"M0 0h24v24H0V0z\" fill=\"none\"/>\n",
              "    <path d=\"M18.56 5.44l.94 2.06.94-2.06 2.06-.94-2.06-.94-.94-2.06-.94 2.06-2.06.94zm-11 1L8.5 8.5l.94-2.06 2.06-.94-2.06-.94L8.5 2.5l-.94 2.06-2.06.94zm10 10l.94 2.06.94-2.06 2.06-.94-2.06-.94-.94-2.06-.94 2.06-2.06.94z\"/><path d=\"M17.41 7.96l-1.37-1.37c-.4-.4-.92-.59-1.43-.59-.52 0-1.04.2-1.43.59L10.3 9.45l-7.72 7.72c-.78.78-.78 2.05 0 2.83L4 21.41c.39.39.9.59 1.41.59.51 0 1.02-.2 1.41-.59l7.78-7.78 2.81-2.81c.8-.78.8-2.07 0-2.86zM5.41 20L4 18.59l7.72-7.72 1.47 1.35L5.41 20z\"/>\n",
              "  </svg>\n",
              "      </button>\n",
              "      \n",
              "  <style>\n",
              "    .colab-df-container {\n",
              "      display:flex;\n",
              "      flex-wrap:wrap;\n",
              "      gap: 12px;\n",
              "    }\n",
              "\n",
              "    .colab-df-convert {\n",
              "      background-color: #E8F0FE;\n",
              "      border: none;\n",
              "      border-radius: 50%;\n",
              "      cursor: pointer;\n",
              "      display: none;\n",
              "      fill: #1967D2;\n",
              "      height: 32px;\n",
              "      padding: 0 0 0 0;\n",
              "      width: 32px;\n",
              "    }\n",
              "\n",
              "    .colab-df-convert:hover {\n",
              "      background-color: #E2EBFA;\n",
              "      box-shadow: 0px 1px 2px rgba(60, 64, 67, 0.3), 0px 1px 3px 1px rgba(60, 64, 67, 0.15);\n",
              "      fill: #174EA6;\n",
              "    }\n",
              "\n",
              "    [theme=dark] .colab-df-convert {\n",
              "      background-color: #3B4455;\n",
              "      fill: #D2E3FC;\n",
              "    }\n",
              "\n",
              "    [theme=dark] .colab-df-convert:hover {\n",
              "      background-color: #434B5C;\n",
              "      box-shadow: 0px 1px 3px 1px rgba(0, 0, 0, 0.15);\n",
              "      filter: drop-shadow(0px 1px 2px rgba(0, 0, 0, 0.3));\n",
              "      fill: #FFFFFF;\n",
              "    }\n",
              "  </style>\n",
              "\n",
              "      <script>\n",
              "        const buttonEl =\n",
              "          document.querySelector('#df-e8619512-a31a-4b74-a960-27cf885164af button.colab-df-convert');\n",
              "        buttonEl.style.display =\n",
              "          google.colab.kernel.accessAllowed ? 'block' : 'none';\n",
              "\n",
              "        async function convertToInteractive(key) {\n",
              "          const element = document.querySelector('#df-e8619512-a31a-4b74-a960-27cf885164af');\n",
              "          const dataTable =\n",
              "            await google.colab.kernel.invokeFunction('convertToInteractive',\n",
              "                                                     [key], {});\n",
              "          if (!dataTable) return;\n",
              "\n",
              "          const docLinkHtml = 'Like what you see? Visit the ' +\n",
              "            '<a target=\"_blank\" href=https://colab.research.google.com/notebooks/data_table.ipynb>data table notebook</a>'\n",
              "            + ' to learn more about interactive tables.';\n",
              "          element.innerHTML = '';\n",
              "          dataTable['output_type'] = 'display_data';\n",
              "          await google.colab.output.renderOutput(dataTable, element);\n",
              "          const docLink = document.createElement('div');\n",
              "          docLink.innerHTML = docLinkHtml;\n",
              "          element.appendChild(docLink);\n",
              "        }\n",
              "      </script>\n",
              "    </div>\n",
              "  </div>\n",
              "  "
            ]
          },
          "metadata": {},
          "execution_count": 240
        }
      ]
    },
    {
      "cell_type": "code",
      "source": [
        "from pandas import DataFrame\n",
        "from pandas.plotting import scatter_matrix\n",
        "from sklearn.preprocessing import StandardScaler\n",
        "trans = StandardScaler()\n",
        "X_scaled = trans.fit_transform(X)\n",
        "# convert the array back to a dataframe\n",
        "X = DataFrame(X_scaled)"
      ],
      "metadata": {
        "id": "5k_r0n3qlGAH"
      },
      "execution_count": 241,
      "outputs": []
    },
    {
      "cell_type": "code",
      "source": [
        "X_train, X_test, y_train, y_test = train_test_split(X, y, test_size=0.33, random_state=1)\n"
      ],
      "metadata": {
        "id": "-CuGPBhsk6vv"
      },
      "execution_count": 242,
      "outputs": []
    },
    {
      "cell_type": "code",
      "source": [
        "from sklearn.linear_model import LogisticRegression\n",
        "from sklearn import metrics\n",
        "logreg = LogisticRegression()\n",
        "logreg.fit(X_train, y_train)"
      ],
      "metadata": {
        "colab": {
          "base_uri": "https://localhost:8080/"
        },
        "id": "_ZE2XWdiV9Ci",
        "outputId": "081cb16e-1f3a-4c88-aa1a-9cdce36f320e"
      },
      "execution_count": 243,
      "outputs": [
        {
          "output_type": "execute_result",
          "data": {
            "text/plain": [
              "LogisticRegression()"
            ]
          },
          "metadata": {},
          "execution_count": 243
        }
      ]
    },
    {
      "cell_type": "code",
      "source": [
        "y_pred = logreg.predict(X_test)\n",
        "print('Accuracy of logistic regression classifier on test set: {:.2f}'.format(logreg.score(X_test, y_test)))"
      ],
      "metadata": {
        "colab": {
          "base_uri": "https://localhost:8080/"
        },
        "id": "HYZCYh8BncFo",
        "outputId": "c58d88bc-5e3c-4627-cfeb-d6417ef2d69f"
      },
      "execution_count": 244,
      "outputs": [
        {
          "output_type": "stream",
          "name": "stdout",
          "text": [
            "Accuracy of logistic regression classifier on test set: 0.79\n"
          ]
        }
      ]
    },
    {
      "cell_type": "code",
      "source": [
        "from sklearn.metrics import confusion_matrix\n",
        "confusion_matrix = confusion_matrix(y_test, y_pred)\n",
        "print(confusion_matrix)"
      ],
      "metadata": {
        "colab": {
          "base_uri": "https://localhost:8080/"
        },
        "id": "1CM15olhncyA",
        "outputId": "feed6b85-d27f-46e2-fc8f-6a11c6542383"
      },
      "execution_count": 245,
      "outputs": [
        {
          "output_type": "stream",
          "name": "stdout",
          "text": [
            "[[1072  351]\n",
            " [ 244 1202]]\n"
          ]
        }
      ]
    },
    {
      "cell_type": "code",
      "source": [
        "from sklearn.metrics import classification_report\n",
        "print(classification_report(y_test, y_pred))"
      ],
      "metadata": {
        "colab": {
          "base_uri": "https://localhost:8080/"
        },
        "id": "QWW_piqUV9FY",
        "outputId": "8e17d762-d0c2-4d88-d165-980db742012c"
      },
      "execution_count": 246,
      "outputs": [
        {
          "output_type": "stream",
          "name": "stdout",
          "text": [
            "              precision    recall  f1-score   support\n",
            "\n",
            "         0.0       0.81      0.75      0.78      1423\n",
            "         1.0       0.77      0.83      0.80      1446\n",
            "\n",
            "    accuracy                           0.79      2869\n",
            "   macro avg       0.79      0.79      0.79      2869\n",
            "weighted avg       0.79      0.79      0.79      2869\n",
            "\n"
          ]
        }
      ]
    },
    {
      "cell_type": "code",
      "source": [
        "from sklearn.metrics import roc_auc_score\n",
        "from sklearn.metrics import roc_curve\n",
        "logit_roc_auc = roc_auc_score(y_test, logreg.predict(X_test))\n",
        "fpr, tpr, thresholds = roc_curve(y_test, logreg.predict_proba(X_test)[:,1])\n",
        "plt.figure()\n",
        "plt.plot(fpr, tpr, label='Logistic Regression (area = %0.2f)' % logit_roc_auc)\n",
        "plt.plot([0, 1], [0, 1],'r--')\n",
        "plt.xlim([0.0, 1.0])\n",
        "plt.ylim([0.0, 1.05])\n",
        "plt.xlabel('False Positive Rate')\n",
        "plt.ylabel('True Positive Rate')\n",
        "plt.title('Receiver operating characteristic')\n",
        "plt.legend(loc=\"lower right\")\n",
        "plt.show()"
      ],
      "metadata": {
        "colab": {
          "base_uri": "https://localhost:8080/",
          "height": 295
        },
        "id": "taO7kB8rnpDk",
        "outputId": "9eebc861-8f72-4667-c97c-4713255bf3f0"
      },
      "execution_count": 247,
      "outputs": [
        {
          "output_type": "display_data",
          "data": {
            "text/plain": [
              "<Figure size 432x288 with 1 Axes>"
            ],
            "image/png": "[encoded data removed]"
          },
          "metadata": {
            "needs_background": "light"
          }
        }
      ]
    },
    {
      "cell_type": "code",
      "source": [
        "X.head()"
      ],
      "metadata": {
        "colab": {
          "base_uri": "https://localhost:8080/",
          "height": 300
        },
        "id": "2Rxm3qos0sJl",
        "outputId": "80a7380f-f7d3-4c29-f3bd-1b89d363da45"
      },
      "execution_count": 248,
      "outputs": [
        {
          "output_type": "execute_result",
          "data": {
            "text/plain": [
              "        0         1         2         3         4         5         6   \\\n",
              "0 -0.73277  0.711945 -0.158486 -0.577353 -0.569331 -0.558863 -0.579178   \n",
              "1 -0.73277 -0.334037 -0.158486  0.664820 -0.210813  0.204796  1.414959   \n",
              "2 -0.73277  2.036857  6.309691  0.296906  2.532518 -0.558863  3.599661   \n",
              "3 -0.73277  0.293552 -0.158486 -0.577353  1.727523  1.499897  2.843967   \n",
              "4 -0.73277 -0.891895 -0.158486  1.184802  0.307195  0.965446  1.433040   \n",
              "\n",
              "         7         8         9   ...        15        16        17        18  \\\n",
              "0 -0.560959 -1.156168 -1.096300  ... -0.175588  3.141059 -0.309296 -0.248346   \n",
              "1  0.270252 -1.156168  0.912159  ... -0.175588 -0.318364 -0.309296 -0.248346   \n",
              "2  0.306390 -1.156168 -1.096300  ...  5.695140 -0.318364 -0.309296 -0.248346   \n",
              "3  0.867281 -1.156168 -1.096300  ...  5.695140 -0.318364 -0.309296 -0.248346   \n",
              "4 -0.395726 -1.154205  0.912159  ... -0.175588 -0.318364 -0.309296 -0.248346   \n",
              "\n",
              "         19        20        21       22        23        24  \n",
              "0 -0.340677 -0.692393 -0.660953 -0.02399  1.022218 -1.022218  \n",
              "1 -0.340677  1.444267 -0.660953 -0.02399 -0.978264  0.978264  \n",
              "2 -0.340677 -0.692393 -0.660953 -0.02399 -0.978264  0.978264  \n",
              "3 -0.340677 -0.692393 -0.660953 -0.02399 -0.978264  0.978264  \n",
              "4 -0.340677  1.444267 -0.660953 -0.02399 -0.978264  0.978264  \n",
              "\n",
              "[5 rows x 25 columns]"
            ],
            "text/html": [
              "\n",
              "  <div id=\"df-82cf797f-c0f2-469e-a16a-05d65f32a77c\">\n",
              "    <div class=\"colab-df-container\">\n",
              "      <div>\n",
              "<style scoped>\n",
              "    .dataframe tbody tr th:only-of-type {\n",
              "        vertical-align: middle;\n",
              "    }\n",
              "\n",
              "    .dataframe tbody tr th {\n",
              "        vertical-align: top;\n",
              "    }\n",
              "\n",
              "    .dataframe thead th {\n",
              "        text-align: right;\n",
              "    }\n",
              "</style>\n",
              "<table border=\"1\" class=\"dataframe\">\n",
              "  <thead>\n",
              "    <tr style=\"text-align: right;\">\n",
              "      <th></th>\n",
              "      <th>0</th>\n",
              "      <th>1</th>\n",
              "      <th>2</th>\n",
              "      <th>3</th>\n",
              "      <th>4</th>\n",
              "      <th>5</th>\n",
              "      <th>6</th>\n",
              "      <th>7</th>\n",
              "      <th>8</th>\n",
              "      <th>9</th>\n",
              "      <th>...</th>\n",
              "      <th>15</th>\n",
              "      <th>16</th>\n",
              "      <th>17</th>\n",
              "      <th>18</th>\n",
              "      <th>19</th>\n",
              "      <th>20</th>\n",
              "      <th>21</th>\n",
              "      <th>22</th>\n",
              "      <th>23</th>\n",
              "      <th>24</th>\n",
              "    </tr>\n",
              "  </thead>\n",
              "  <tbody>\n",
              "    <tr>\n",
              "      <th>0</th>\n",
              "      <td>-0.73277</td>\n",
              "      <td>0.711945</td>\n",
              "      <td>-0.158486</td>\n",
              "      <td>-0.577353</td>\n",
              "      <td>-0.569331</td>\n",
              "      <td>-0.558863</td>\n",
              "      <td>-0.579178</td>\n",
              "      <td>-0.560959</td>\n",
              "      <td>-1.156168</td>\n",
              "      <td>-1.096300</td>\n",
              "      <td>...</td>\n",
              "      <td>-0.175588</td>\n",
              "      <td>3.141059</td>\n",
              "      <td>-0.309296</td>\n",
              "      <td>-0.248346</td>\n",
              "      <td>-0.340677</td>\n",
              "      <td>-0.692393</td>\n",
              "      <td>-0.660953</td>\n",
              "      <td>-0.02399</td>\n",
              "      <td>1.022218</td>\n",
              "      <td>-1.022218</td>\n",
              "    </tr>\n",
              "    <tr>\n",
              "      <th>1</th>\n",
              "      <td>-0.73277</td>\n",
              "      <td>-0.334037</td>\n",
              "      <td>-0.158486</td>\n",
              "      <td>0.664820</td>\n",
              "      <td>-0.210813</td>\n",
              "      <td>0.204796</td>\n",
              "      <td>1.414959</td>\n",
              "      <td>0.270252</td>\n",
              "      <td>-1.156168</td>\n",
              "      <td>0.912159</td>\n",
              "      <td>...</td>\n",
              "      <td>-0.175588</td>\n",
              "      <td>-0.318364</td>\n",
              "      <td>-0.309296</td>\n",
              "      <td>-0.248346</td>\n",
              "      <td>-0.340677</td>\n",
              "      <td>1.444267</td>\n",
              "      <td>-0.660953</td>\n",
              "      <td>-0.02399</td>\n",
              "      <td>-0.978264</td>\n",
              "      <td>0.978264</td>\n",
              "    </tr>\n",
              "    <tr>\n",
              "      <th>2</th>\n",
              "      <td>-0.73277</td>\n",
              "      <td>2.036857</td>\n",
              "      <td>6.309691</td>\n",
              "      <td>0.296906</td>\n",
              "      <td>2.532518</td>\n",
              "      <td>-0.558863</td>\n",
              "      <td>3.599661</td>\n",
              "      <td>0.306390</td>\n",
              "      <td>-1.156168</td>\n",
              "      <td>-1.096300</td>\n",
              "      <td>...</td>\n",
              "      <td>5.695140</td>\n",
              "      <td>-0.318364</td>\n",
              "      <td>-0.309296</td>\n",
              "      <td>-0.248346</td>\n",
              "      <td>-0.340677</td>\n",
              "      <td>-0.692393</td>\n",
              "      <td>-0.660953</td>\n",
              "      <td>-0.02399</td>\n",
              "      <td>-0.978264</td>\n",
              "      <td>0.978264</td>\n",
              "    </tr>\n",
              "    <tr>\n",
              "      <th>3</th>\n",
              "      <td>-0.73277</td>\n",
              "      <td>0.293552</td>\n",
              "      <td>-0.158486</td>\n",
              "      <td>-0.577353</td>\n",
              "      <td>1.727523</td>\n",
              "      <td>1.499897</td>\n",
              "      <td>2.843967</td>\n",
              "      <td>0.867281</td>\n",
              "      <td>-1.156168</td>\n",
              "      <td>-1.096300</td>\n",
              "      <td>...</td>\n",
              "      <td>5.695140</td>\n",
              "      <td>-0.318364</td>\n",
              "      <td>-0.309296</td>\n",
              "      <td>-0.248346</td>\n",
              "      <td>-0.340677</td>\n",
              "      <td>-0.692393</td>\n",
              "      <td>-0.660953</td>\n",
              "      <td>-0.02399</td>\n",
              "      <td>-0.978264</td>\n",
              "      <td>0.978264</td>\n",
              "    </tr>\n",
              "    <tr>\n",
              "      <th>4</th>\n",
              "      <td>-0.73277</td>\n",
              "      <td>-0.891895</td>\n",
              "      <td>-0.158486</td>\n",
              "      <td>1.184802</td>\n",
              "      <td>0.307195</td>\n",
              "      <td>0.965446</td>\n",
              "      <td>1.433040</td>\n",
              "      <td>-0.395726</td>\n",
              "      <td>-1.154205</td>\n",
              "      <td>0.912159</td>\n",
              "      <td>...</td>\n",
              "      <td>-0.175588</td>\n",
              "      <td>-0.318364</td>\n",
              "      <td>-0.309296</td>\n",
              "      <td>-0.248346</td>\n",
              "      <td>-0.340677</td>\n",
              "      <td>1.444267</td>\n",
              "      <td>-0.660953</td>\n",
              "      <td>-0.02399</td>\n",
              "      <td>-0.978264</td>\n",
              "      <td>0.978264</td>\n",
              "    </tr>\n",
              "  </tbody>\n",
              "</table>\n",
              "<p>5 rows × 25 columns</p>\n",
              "</div>\n",
              "      <button class=\"colab-df-convert\" onclick=\"convertToInteractive('df-82cf797f-c0f2-469e-a16a-05d65f32a77c')\"\n",
              "              title=\"Convert this dataframe to an interactive table.\"\n",
              "              style=\"display:none;\">\n",
              "        \n",
              "  <svg xmlns=\"http://www.w3.org/2000/svg\" height=\"24px\"viewBox=\"0 0 24 24\"\n",
              "       width=\"24px\">\n",
              "    <path d=\"M0 0h24v24H0V0z\" fill=\"none\"/>\n",
              "    <path d=\"M18.56 5.44l.94 2.06.94-2.06 2.06-.94-2.06-.94-.94-2.06-.94 2.06-2.06.94zm-11 1L8.5 8.5l.94-2.06 2.06-.94-2.06-.94L8.5 2.5l-.94 2.06-2.06.94zm10 10l.94 2.06.94-2.06 2.06-.94-2.06-.94-.94-2.06-.94 2.06-2.06.94z\"/><path d=\"M17.41 7.96l-1.37-1.37c-.4-.4-.92-.59-1.43-.59-.52 0-1.04.2-1.43.59L10.3 9.45l-7.72 7.72c-.78.78-.78 2.05 0 2.83L4 21.41c.39.39.9.59 1.41.59.51 0 1.02-.2 1.41-.59l7.78-7.78 2.81-2.81c.8-.78.8-2.07 0-2.86zM5.41 20L4 18.59l7.72-7.72 1.47 1.35L5.41 20z\"/>\n",
              "  </svg>\n",
              "      </button>\n",
              "      \n",
              "  <style>\n",
              "    .colab-df-container {\n",
              "      display:flex;\n",
              "      flex-wrap:wrap;\n",
              "      gap: 12px;\n",
              "    }\n",
              "\n",
              "    .colab-df-convert {\n",
              "      background-color: #E8F0FE;\n",
              "      border: none;\n",
              "      border-radius: 50%;\n",
              "      cursor: pointer;\n",
              "      display: none;\n",
              "      fill: #1967D2;\n",
              "      height: 32px;\n",
              "      padding: 0 0 0 0;\n",
              "      width: 32px;\n",
              "    }\n",
              "\n",
              "    .colab-df-convert:hover {\n",
              "      background-color: #E2EBFA;\n",
              "      box-shadow: 0px 1px 2px rgba(60, 64, 67, 0.3), 0px 1px 3px 1px rgba(60, 64, 67, 0.15);\n",
              "      fill: #174EA6;\n",
              "    }\n",
              "\n",
              "    [theme=dark] .colab-df-convert {\n",
              "      background-color: #3B4455;\n",
              "      fill: #D2E3FC;\n",
              "    }\n",
              "\n",
              "    [theme=dark] .colab-df-convert:hover {\n",
              "      background-color: #434B5C;\n",
              "      box-shadow: 0px 1px 3px 1px rgba(0, 0, 0, 0.15);\n",
              "      filter: drop-shadow(0px 1px 2px rgba(0, 0, 0, 0.3));\n",
              "      fill: #FFFFFF;\n",
              "    }\n",
              "  </style>\n",
              "\n",
              "      <script>\n",
              "        const buttonEl =\n",
              "          document.querySelector('#df-82cf797f-c0f2-469e-a16a-05d65f32a77c button.colab-df-convert');\n",
              "        buttonEl.style.display =\n",
              "          google.colab.kernel.accessAllowed ? 'block' : 'none';\n",
              "\n",
              "        async function convertToInteractive(key) {\n",
              "          const element = document.querySelector('#df-82cf797f-c0f2-469e-a16a-05d65f32a77c');\n",
              "          const dataTable =\n",
              "            await google.colab.kernel.invokeFunction('convertToInteractive',\n",
              "                                                     [key], {});\n",
              "          if (!dataTable) return;\n",
              "\n",
              "          const docLinkHtml = 'Like what you see? Visit the ' +\n",
              "            '<a target=\"_blank\" href=https://colab.research.google.com/notebooks/data_table.ipynb>data table notebook</a>'\n",
              "            + ' to learn more about interactive tables.';\n",
              "          element.innerHTML = '';\n",
              "          dataTable['output_type'] = 'display_data';\n",
              "          await google.colab.output.renderOutput(dataTable, element);\n",
              "          const docLink = document.createElement('div');\n",
              "          docLink.innerHTML = docLinkHtml;\n",
              "          element.appendChild(docLink);\n",
              "        }\n",
              "      </script>\n",
              "    </div>\n",
              "  </div>\n",
              "  "
            ]
          },
          "metadata": {},
          "execution_count": 248
        }
      ]
    },
    {
      "cell_type": "code",
      "source": [
        "from numpy import loadtxt\n",
        "from tensorflow.keras.models import Sequential\n",
        "from tensorflow.keras.layers import Dense\n",
        "\n",
        "model = Sequential()\n",
        "model.add(Dense(50, input_shape=(25,), activation='relu'))\n",
        "model.add(Dense(25, activation='relu'))\n",
        "model.add(Dense(8, activation='relu'))\n",
        "model.add(Dense(1, activation='sigmoid'))\n",
        "# compile the keras model\n",
        "model.compile(loss='binary_crossentropy', optimizer='adam', metrics=['accuracy'])\n",
        "# fit the keras model on the dataset\n",
        "model.fit(X_train, y_train, epochs=50, batch_size=10)\n",
        "# evaluate the keras model\n",
        "_, accuracy = model.evaluate(X_test, y_test)\n",
        "print('Accuracy: %.2f' % (accuracy*100))"
      ],
      "metadata": {
        "colab": {
          "base_uri": "https://localhost:8080/"
        },
        "id": "O4Eyp5jqGnYn",
        "outputId": "736c648b-dd42-4331-a0a6-6886bd5fcbb3"
      },
      "execution_count": 258,
      "outputs": [
        {
          "output_type": "stream",
          "name": "stdout",
          "text": [
            "Epoch 1/50\n",
            "583/583 [==============================] - 3s 2ms/step - loss: 0.5018 - accuracy: 0.7600\n",
            "Epoch 2/50\n",
            "583/583 [==============================] - 1s 2ms/step - loss: 0.4293 - accuracy: 0.7950\n",
            "Epoch 3/50\n",
            "583/583 [==============================] - 1s 2ms/step - loss: 0.4180 - accuracy: 0.7989\n",
            "Epoch 4/50\n",
            "583/583 [==============================] - 1s 2ms/step - loss: 0.4112 - accuracy: 0.8046\n",
            "Epoch 5/50\n",
            "583/583 [==============================] - 1s 2ms/step - loss: 0.4034 - accuracy: 0.8036\n",
            "Epoch 6/50\n",
            "583/583 [==============================] - 1s 2ms/step - loss: 0.3979 - accuracy: 0.8019\n",
            "Epoch 7/50\n",
            "583/583 [==============================] - 1s 2ms/step - loss: 0.3923 - accuracy: 0.8118\n",
            "Epoch 8/50\n",
            "583/583 [==============================] - 1s 2ms/step - loss: 0.3881 - accuracy: 0.8110\n",
            "Epoch 9/50\n",
            "583/583 [==============================] - 1s 2ms/step - loss: 0.3849 - accuracy: 0.8115\n",
            "Epoch 10/50\n",
            "583/583 [==============================] - 1s 2ms/step - loss: 0.3828 - accuracy: 0.8134\n",
            "Epoch 11/50\n",
            "583/583 [==============================] - 1s 2ms/step - loss: 0.3775 - accuracy: 0.8152\n",
            "Epoch 12/50\n",
            "583/583 [==============================] - 2s 3ms/step - loss: 0.3750 - accuracy: 0.8154\n",
            "Epoch 13/50\n",
            "583/583 [==============================] - 2s 3ms/step - loss: 0.3701 - accuracy: 0.8207\n",
            "Epoch 14/50\n",
            "583/583 [==============================] - 2s 4ms/step - loss: 0.3668 - accuracy: 0.8204\n",
            "Epoch 15/50\n",
            "583/583 [==============================] - 2s 3ms/step - loss: 0.3637 - accuracy: 0.8192\n",
            "Epoch 16/50\n",
            "583/583 [==============================] - 1s 3ms/step - loss: 0.3606 - accuracy: 0.8245\n",
            "Epoch 17/50\n",
            "583/583 [==============================] - 3s 5ms/step - loss: 0.3565 - accuracy: 0.8262\n",
            "Epoch 18/50\n",
            "583/583 [==============================] - 3s 5ms/step - loss: 0.3533 - accuracy: 0.8268\n",
            "Epoch 19/50\n",
            "583/583 [==============================] - 2s 3ms/step - loss: 0.3520 - accuracy: 0.8261\n",
            "Epoch 20/50\n",
            "583/583 [==============================] - 1s 2ms/step - loss: 0.3503 - accuracy: 0.8295\n",
            "Epoch 21/50\n",
            "583/583 [==============================] - 1s 2ms/step - loss: 0.3472 - accuracy: 0.8324\n",
            "Epoch 22/50\n",
            "583/583 [==============================] - 1s 2ms/step - loss: 0.3438 - accuracy: 0.8300\n",
            "Epoch 23/50\n",
            "583/583 [==============================] - 1s 2ms/step - loss: 0.3406 - accuracy: 0.8336\n",
            "Epoch 24/50\n",
            "583/583 [==============================] - 1s 2ms/step - loss: 0.3388 - accuracy: 0.8341\n",
            "Epoch 25/50\n",
            "583/583 [==============================] - 1s 2ms/step - loss: 0.3372 - accuracy: 0.8371\n",
            "Epoch 26/50\n",
            "583/583 [==============================] - 1s 2ms/step - loss: 0.3335 - accuracy: 0.8424\n",
            "Epoch 27/50\n",
            "583/583 [==============================] - 1s 2ms/step - loss: 0.3299 - accuracy: 0.8422\n",
            "Epoch 28/50\n",
            "583/583 [==============================] - 1s 2ms/step - loss: 0.3284 - accuracy: 0.8391\n",
            "Epoch 29/50\n",
            "583/583 [==============================] - 1s 2ms/step - loss: 0.3254 - accuracy: 0.8398\n",
            "Epoch 30/50\n",
            "583/583 [==============================] - 1s 2ms/step - loss: 0.3256 - accuracy: 0.8398\n",
            "Epoch 31/50\n",
            "583/583 [==============================] - 1s 2ms/step - loss: 0.3213 - accuracy: 0.8431\n",
            "Epoch 32/50\n",
            "583/583 [==============================] - 1s 2ms/step - loss: 0.3185 - accuracy: 0.8444\n",
            "Epoch 33/50\n",
            "583/583 [==============================] - 1s 2ms/step - loss: 0.3162 - accuracy: 0.8468\n",
            "Epoch 34/50\n",
            "583/583 [==============================] - 1s 2ms/step - loss: 0.3136 - accuracy: 0.8446\n",
            "Epoch 35/50\n",
            "583/583 [==============================] - 1s 2ms/step - loss: 0.3138 - accuracy: 0.8451\n",
            "Epoch 36/50\n",
            "583/583 [==============================] - 1s 2ms/step - loss: 0.3108 - accuracy: 0.8492\n",
            "Epoch 37/50\n",
            "583/583 [==============================] - 1s 2ms/step - loss: 0.3088 - accuracy: 0.8501\n",
            "Epoch 38/50\n",
            "583/583 [==============================] - 1s 2ms/step - loss: 0.3081 - accuracy: 0.8462\n",
            "Epoch 39/50\n",
            "583/583 [==============================] - 1s 2ms/step - loss: 0.3023 - accuracy: 0.8527\n",
            "Epoch 40/50\n",
            "583/583 [==============================] - 1s 2ms/step - loss: 0.3039 - accuracy: 0.8475\n",
            "Epoch 41/50\n",
            "583/583 [==============================] - 1s 2ms/step - loss: 0.2991 - accuracy: 0.8563\n",
            "Epoch 42/50\n",
            "583/583 [==============================] - 1s 2ms/step - loss: 0.3017 - accuracy: 0.8460\n",
            "Epoch 43/50\n",
            "583/583 [==============================] - 1s 2ms/step - loss: 0.2976 - accuracy: 0.8530\n",
            "Epoch 44/50\n",
            "583/583 [==============================] - 1s 2ms/step - loss: 0.2975 - accuracy: 0.8491\n",
            "Epoch 45/50\n",
            "583/583 [==============================] - 1s 2ms/step - loss: 0.2935 - accuracy: 0.8544\n",
            "Epoch 46/50\n",
            "583/583 [==============================] - 1s 2ms/step - loss: 0.2941 - accuracy: 0.8556\n",
            "Epoch 47/50\n",
            "583/583 [==============================] - 1s 2ms/step - loss: 0.2903 - accuracy: 0.8546\n",
            "Epoch 48/50\n",
            "583/583 [==============================] - 1s 2ms/step - loss: 0.2890 - accuracy: 0.8534\n",
            "Epoch 49/50\n",
            "583/583 [==============================] - 1s 2ms/step - loss: 0.2914 - accuracy: 0.8554\n",
            "Epoch 50/50\n",
            "583/583 [==============================] - 1s 2ms/step - loss: 0.2838 - accuracy: 0.8601\n",
            "90/90 [==============================] - 0s 1ms/step - loss: 0.5355 - accuracy: 0.7853\n",
            "Accuracy: 78.53\n"
          ]
        }
      ]
    },
    {
      "cell_type": "code",
      "source": [
        "sample_data=pd.read_csv('/content/sample_submission.csv')"
      ],
      "metadata": {
        "id": "p61XblCa7hAx"
      },
      "execution_count": 249,
      "outputs": []
    },
    {
      "cell_type": "code",
      "source": [
        "test_data.columns"
      ],
      "metadata": {
        "colab": {
          "base_uri": "https://localhost:8080/"
        },
        "id": "tCCYdckG-MQy",
        "outputId": "ac320243-74c9-4673-fd96-011c7f8f5891"
      },
      "execution_count": 250,
      "outputs": [
        {
          "output_type": "execute_result",
          "data": {
            "text/plain": [
              "Index(['CryoSleep', 'Age', 'VIP', 'RoomService', 'FoodCourt', 'ShoppingMall',\n",
              "       'Spa', 'VRDeck', 'num', 'HomePlanet_Earth', 'HomePlanet_Europa',\n",
              "       'HomePlanet_Mars', 'Destination_55 Cancri e',\n",
              "       'Destination_PSO J318.5-22', 'Destination_TRAPPIST-1e', 'deck_A',\n",
              "       'deck_B', 'deck_C', 'deck_D', 'deck_E', 'deck_F', 'deck_G', 'deck_T',\n",
              "       'side_P', 'side_S'],\n",
              "      dtype='object')"
            ]
          },
          "metadata": {},
          "execution_count": 250
        }
      ]
    },
    {
      "cell_type": "code",
      "source": [
        "test_pred = logreg.predict(test_data)\n",
        "sample_data.loc[:,'Transported']=test_pred\n",
        "sample_data['Transported'] = sample_data['Transported'].map({1:True,0:False})\n",
        "sample_data.to_csv('sample_fasai.csv',index=False)"
      ],
      "metadata": {
        "id": "6BBKy1Vq7dO9",
        "colab": {
          "base_uri": "https://localhost:8080/"
        },
        "outputId": "995420eb-83bf-416d-9879-a8dc49adc26f"
      },
      "execution_count": 251,
      "outputs": [
        {
          "output_type": "stream",
          "name": "stderr",
          "text": [
            "/usr/local/lib/python3.7/dist-packages/sklearn/base.py:444: UserWarning: X has feature names, but LogisticRegression was fitted without feature names\n",
            "  f\"X has feature names, but {self.__class__.__name__} was fitted without\"\n"
          ]
        }
      ]
    }
  ]
}